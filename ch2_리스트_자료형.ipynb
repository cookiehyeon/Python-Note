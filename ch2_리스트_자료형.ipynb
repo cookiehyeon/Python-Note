{
  "nbformat": 4,
  "nbformat_minor": 0,
  "metadata": {
    "colab": {
      "provenance": [],
      "toc_visible": true
    },
    "kernelspec": {
      "name": "python3",
      "display_name": "Python 3"
    },
    "language_info": {
      "name": "python"
    }
  },
  "cells": [
    {
      "cell_type": "markdown",
      "source": [
        "# 2. 리스트 자료형\n",
        "* 여러개의 데이터를 연속적으로 담아 처리하기 위해 사용하는 자료형\n",
        "  * USER 입장에서 C나 JAVA에서의 배열(array)의 기능 및 연결 리스트와 유사한 기능을 지원\n",
        "  * 배열 또는 테이블이라고 부름\n"
      ],
      "metadata": {
        "id": "SyIyqCzb9ang"
      }
    },
    {
      "cell_type": "markdown",
      "source": [
        "## 2-1. 리스트 초기화\n",
        "\n",
        "*   리스트는 대괄호([])안에 원소를 넣어 초기화 / 쉼표(,)로 원소를 구분\n",
        "*   비어 있는 리스트를 선언하고자 할 때는 list() 혹은 []를 이용\n",
        "*   리스트의 원소에 접근할 때는 인덱스(index) 값을 괄호에 넣음\n",
        "  * index는 0부터 시작함"
      ],
      "metadata": {
        "id": "t1zwxKOEDRuD"
      }
    },
    {
      "cell_type": "code",
      "source": [
        "# 직접 데이터를 넣어 초기화\n",
        "a = [1,2,3,4,5,6,7,8,9]\n",
        "\n",
        "print(a)\n",
        "\n",
        "# 7번째 원소만 출력\n",
        "print(a[6])\n",
        "\n",
        "# 크기가 N, 모든 값이 0인 1차원 리스트 초기화\n",
        "n = 7\n",
        "a = [0] * n\n",
        "print(a)"
      ],
      "metadata": {
        "colab": {
          "base_uri": "https://localhost:8080/"
        },
        "id": "1Qc3ISlO9Qp_",
        "outputId": "51ce7f5a-7555-4dde-b93a-ed0b6b1632d3"
      },
      "execution_count": null,
      "outputs": [
        {
          "output_type": "stream",
          "name": "stdout",
          "text": [
            "[1, 2, 3, 4, 5, 6, 7, 8, 9]\n",
            "7\n",
            "[0, 0, 0, 0, 0, 0, 0]\n"
          ]
        }
      ]
    },
    {
      "cell_type": "code",
      "source": [
        "a = [3, 6, 9, 12, 15]\n",
        "  #  0  1  2   3  4\n",
        "print(a)\n",
        "\n",
        "a[3] = 1\n",
        "print(a)"
      ],
      "metadata": {
        "colab": {
          "base_uri": "https://localhost:8080/"
        },
        "id": "H-LwCRXIAMD3",
        "outputId": "3af21e78-fe41-4f0c-9195-6d2f978f70da"
      },
      "execution_count": null,
      "outputs": [
        {
          "output_type": "stream",
          "name": "stdout",
          "text": [
            "[3, 6, 9, 12, 15]\n",
            "[3, 6, 9, 1, 15]\n"
          ]
        }
      ]
    },
    {
      "cell_type": "markdown",
      "source": [
        "## 2-2. 리스트의 인덱싱\n",
        "\n",
        "*   인덱스 값을 입력하여 리스트의 특정한 원소에 접근\n",
        "  * 파이썬의 인덱스 값은 양의 정수, 음의 정수 모두 사용함\n",
        "  * 음의 정수를 넣을 경우, 원소를 거꾸로 탐색함"
      ],
      "metadata": {
        "id": "MBEzFEVQA09U"
      }
    },
    {
      "cell_type": "code",
      "source": [
        "a = [1,2,3,4,5,6,7,8,9]\n",
        "\n",
        "# 7번째 원소만 출력\n",
        "print(a[6])\n",
        "\n",
        "# 뒤에서 1번째 원소 출력\n",
        "print(a[-1])\n",
        "\n",
        "# 뒤에서 2번째 원소 출력\n",
        "print(a[-2])\n",
        "\n",
        "# 3번째 원소값 변경\n",
        "a[2] = 7\n",
        "print(a)"
      ],
      "metadata": {
        "colab": {
          "base_uri": "https://localhost:8080/"
        },
        "id": "cjt_6Hwe_9oL",
        "outputId": "6279bcd4-982b-411a-d081-591ecf8ab2c4"
      },
      "execution_count": null,
      "outputs": [
        {
          "output_type": "stream",
          "name": "stdout",
          "text": [
            "7\n",
            "9\n",
            "8\n",
            "[1, 2, 7, 4, 5, 6, 7, 8, 9]\n"
          ]
        }
      ]
    },
    {
      "cell_type": "markdown",
      "source": [
        "## 2-3. 리스트의 슬라이싱\n",
        "\n",
        "*   리스트에서 연속적인 위치를 갖는 원소들을 가져올때 사용\n",
        "  * 대괄호 안에 콜론(:)을 넣어서 시작 인덱스와 끝 인덱스를 설정\n",
        "  * 단, 끝 인덱스는 실제 인덱스보다 1을 더 크게 설정할것"
      ],
      "metadata": {
        "id": "1tNzyd8MB-au"
      }
    },
    {
      "cell_type": "code",
      "source": [
        "a = [1,2,3,4,5,6,7,8,9]\n",
        "\n",
        "# 4번째 원소만 출력\n",
        "print(a[6])\n",
        "\n",
        "# 4번째 원소부터 7번째 원소까지\n",
        "print(a[3:8])"
      ],
      "metadata": {
        "colab": {
          "base_uri": "https://localhost:8080/"
        },
        "id": "uD_3d2KwCQ0u",
        "outputId": "3b79aa44-a571-4441-8284-a2f3c73869fe"
      },
      "execution_count": null,
      "outputs": [
        {
          "output_type": "stream",
          "name": "stdout",
          "text": [
            "7\n",
            "[4, 5, 6, 7, 8]\n"
          ]
        }
      ]
    },
    {
      "cell_type": "markdown",
      "source": [
        "## 2-4. 리스트 컴프리헨션(1)\n",
        "\n",
        "*   리스트를 초기화하는 방법\n",
        "  * 대괄호 안에 조건문과 반복문을 적용하여 리스트를 초기화"
      ],
      "metadata": {
        "id": "XIpYJlwwtkrS"
      }
    },
    {
      "cell_type": "code",
      "source": [
        "# 0부터 9까지의 수를 포함하는 리스트\n",
        "array = [i for i in range(10)]\n",
        "print(array)\n",
        "\n",
        "# 0부터 23까지의 수 중에서 홀수만 포함하는 리스트\n",
        "array = [i for i in range(24) if i % 2 == 1]\n",
        "print(array)\n",
        "\n",
        "# 1부터 15까지의 수들의 제곱값을 포함하는 리스트\n",
        "array = [i * i for i in range(1,16)]\n",
        "print(array)"
      ],
      "metadata": {
        "colab": {
          "base_uri": "https://localhost:8080/"
        },
        "id": "sUX6pzsNvNbd",
        "outputId": "4934c453-9fac-41c1-f33a-0ea8aa5e0fd1"
      },
      "execution_count": null,
      "outputs": [
        {
          "output_type": "stream",
          "name": "stdout",
          "text": [
            "[0, 1, 2, 3, 4, 5, 6, 7, 8, 9]\n",
            "[1, 3, 5, 7, 9, 11, 13, 15, 17, 19, 21, 23]\n",
            "[1, 4, 9, 16, 25, 36, 49, 64, 81, 100, 121, 144, 169, 196, 225]\n"
          ]
        }
      ]
    },
    {
      "cell_type": "markdown",
      "source": [
        "###[참고] 리스트 컴프리헨션 VS 일반적인 코드\n",
        "방식은 다르나 실행결과 두 코드 모두 동일하게 출력"
      ],
      "metadata": {
        "id": "RItLovdnwHYD"
      }
    },
    {
      "cell_type": "code",
      "source": [
        "# 리스트 컴프리헨션\n",
        "# 0부터 23까지의 수 중에서 홀수만 포함하는 리스트\n",
        "array = [i for i in range(24) if i % 2 == 1]\n",
        "print(array)"
      ],
      "metadata": {
        "colab": {
          "base_uri": "https://localhost:8080/"
        },
        "id": "ZnESs2sVwO8a",
        "outputId": "22fb0c71-dc4a-49c6-d3fd-3e072b571944"
      },
      "execution_count": null,
      "outputs": [
        {
          "output_type": "stream",
          "name": "stdout",
          "text": [
            "[1, 3, 5, 7, 9, 11, 13, 15, 17, 19, 21, 23]\n"
          ]
        }
      ]
    },
    {
      "cell_type": "code",
      "source": [
        "# 일반적인 코드\n",
        "# 0부터 23까지의 수 중에서 홀수만 포함하는 리스트\n",
        "array = []\n",
        "for i in range(24):\n",
        "  if i % 2 == 1:\n",
        "    array.append(i)\n",
        "print(array)"
      ],
      "metadata": {
        "colab": {
          "base_uri": "https://localhost:8080/"
        },
        "id": "rqhWEiE7wbxj",
        "outputId": "b051c69d-f70f-4a44-e805-ee9e7f926923"
      },
      "execution_count": null,
      "outputs": [
        {
          "output_type": "stream",
          "name": "stdout",
          "text": [
            "[1, 3, 5, 7, 9, 11, 13, 15, 17, 19, 21, 23]\n"
          ]
        }
      ]
    },
    {
      "cell_type": "code",
      "source": [
        "a = [2,4,6,8,9,9,9]\n",
        "remove_set = {4,9} # 집합 자료형\n",
        "\n",
        "# remove_list에 포함되지 않은 값만 저장\n",
        "result = [i for i in a if i not in remove_set]\n",
        "print(result)"
      ],
      "metadata": {
        "colab": {
          "base_uri": "https://localhost:8080/"
        },
        "id": "Oos2bQd3uA2M",
        "outputId": "974deb65-321d-401a-a89f-72c6c83dc965"
      },
      "execution_count": null,
      "outputs": [
        {
          "output_type": "stream",
          "name": "stdout",
          "text": [
            "[2, 6, 8]\n"
          ]
        }
      ]
    },
    {
      "cell_type": "markdown",
      "source": [
        "## 2-5. 리스트 컴프리헨션(2)\n",
        "\n",
        "*  2차원 리스트를 초기화할 때 효과적으로 사용"
      ],
      "metadata": {
        "id": "LDc4ZYL7xKFu"
      }
    },
    {
      "cell_type": "code",
      "source": [
        "# n * m 크기의 2차원 리스트를 한 번에 초기화 해야 할 경우 매우 유용함\n",
        "\n",
        "n = 5\n",
        "m = 3\n",
        "array = [[0] * m for i in range(n)]\n",
        "print(array)"
      ],
      "metadata": {
        "colab": {
          "base_uri": "https://localhost:8080/"
        },
        "id": "UDRx7mKEyaWy",
        "outputId": "4fae5c88-20d7-4b45-d969-5e91336894cb"
      },
      "execution_count": null,
      "outputs": [
        {
          "output_type": "stream",
          "name": "stdout",
          "text": [
            "[[0, 0, 0], [0, 0, 0], [0, 0, 0], [0, 0, 0], [0, 0, 0]]\n"
          ]
        }
      ]
    },
    {
      "cell_type": "code",
      "source": [
        "# 만약 2차원 리스트를 초기화 할 경우 이런 경우 잘못된 결과가 나올 수 있음\n",
        "# 해당 예시 코드는 전체 리스트 안에 포함된 각 리스트가 모두 같은 객체로 인식됨\n",
        "\n",
        "n = 5\n",
        "m = 3\n",
        "array = [[0] * m ] * n\n",
        "print(array)\n",
        "\n",
        "array[1][1] = 7\n",
        "print(array)"
      ],
      "metadata": {
        "colab": {
          "base_uri": "https://localhost:8080/"
        },
        "id": "BS2_9mlMyo78",
        "outputId": "9358237d-1c50-44c5-f2d0-e69833d4eced"
      },
      "execution_count": null,
      "outputs": [
        {
          "output_type": "stream",
          "name": "stdout",
          "text": [
            "[[0, 0, 0], [0, 0, 0], [0, 0, 0], [0, 0, 0], [0, 0, 0]]\n",
            "[[0, 7, 0], [0, 7, 0], [0, 7, 0], [0, 7, 0], [0, 7, 0]]\n"
          ]
        }
      ]
    },
    {
      "cell_type": "markdown",
      "source": [
        "## 2-6. 리스트 - 기타 메서드"
      ],
      "metadata": {
        "id": "IRRRPbgD0ABW"
      }
    },
    {
      "cell_type": "code",
      "source": [
        "from IPython.display import Image, display\n",
        "display(Image('/content/drive/MyDrive/Python_Note/img/python_list_method.png'))"
      ],
      "metadata": {
        "colab": {
          "base_uri": "https://localhost:8080/",
          "height": 358
        },
        "id": "x3aP0vct99JK",
        "outputId": "ca5dfde1-80da-48cb-da68-b91b58ec030a"
      },
      "execution_count": null,
      "outputs": [
        {
          "output_type": "display_data",
          "data": {
            "image/png": "[encoded data removed]",
            "text/plain": [
              "<IPython.core.display.Image object>"
            ]
          },
          "metadata": {}
        }
      ]
    },
    {
      "cell_type": "code",
      "source": [
        "a = [3,9,6,15,5]\n",
        "print(\"기본 리스트 : \", a)\n",
        "\n",
        "# 리스트에 원소 삽입\n",
        "a.append(2)\n",
        "print(\"삽입 : \", a)\n",
        "\n",
        "# 오름차순 정렬\n",
        "a.sort()\n",
        "print(\"오름차순 : \", a)\n",
        "\n",
        "# 내림차순 정렬\n",
        "a.sort(reverse = True)\n",
        "print(\"내림차순 : \", a)"
      ],
      "metadata": {
        "colab": {
          "base_uri": "https://localhost:8080/"
        },
        "id": "uSRqpZcB-aXW",
        "outputId": "0565dc6c-bb87-41ae-9e17-6ca2e1c47d3a"
      },
      "execution_count": null,
      "outputs": [
        {
          "output_type": "stream",
          "name": "stdout",
          "text": [
            "기본 리스트 :  [3, 9, 6, 15, 5]\n",
            "삽입 :  [3, 9, 6, 15, 5, 2]\n",
            "오름차순 :  [2, 3, 5, 6, 9, 15]\n",
            "내림차순 :  [15, 9, 6, 5, 3, 2]\n"
          ]
        }
      ]
    },
    {
      "cell_type": "code",
      "source": [
        "a = [9,8,7,6,5]\n",
        "\n",
        "# 리스트 원소 뒤집기\n",
        "a.reverse()\n",
        "print(\"원소 뒤집기 : \", a)\n",
        "\n",
        "# 특정 인덱스에 데이터 추가\n",
        "a.insert(1,6)\n",
        "print(\"인덱스 1에 6 추가 : \", a)\n",
        "\n",
        "# 특정 값인 데이터 개수 세기\n",
        "print(\"값이 6인 데이터 개수 : \", a.count(6))\n",
        "\n",
        "# 특정 값 데이터 삭제\n",
        "a.remove(5)\n",
        "print(\"값이 5인 데이터 삭제 : \", a)"
      ],
      "metadata": {
        "colab": {
          "base_uri": "https://localhost:8080/"
        },
        "id": "HcQccpmd_ILV",
        "outputId": "03925b44-78c2-4b1e-81ef-2a80745b64bb"
      },
      "execution_count": null,
      "outputs": [
        {
          "output_type": "stream",
          "name": "stdout",
          "text": [
            "원소 뒤집기 :  [5, 6, 7, 8, 9]\n",
            "인덱스 1에 6 추가 :  [5, 6, 6, 7, 8, 9]\n",
            "값이 6인 데이터 개수 :  2\n",
            "값이 5인 데이터 삭제 :  [6, 6, 7, 8, 9]\n"
          ]
        }
      ]
    }
  ]
}