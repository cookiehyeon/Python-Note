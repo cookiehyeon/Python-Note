{
  "nbformat": 4,
  "nbformat_minor": 0,
  "metadata": {
    "colab": {
      "provenance": []
    },
    "kernelspec": {
      "name": "python3",
      "display_name": "Python 3"
    },
    "language_info": {
      "name": "python"
    }
  },
  "cells": [
    {
      "cell_type": "markdown",
      "source": [
        "# 4. 사전 & 집합 자료형"
      ],
      "metadata": {
        "id": "xLKnmXG1QOKl"
      }
    },
    {
      "cell_type": "markdown",
      "source": [
        "## 4-1. 사전 자료형\n",
        "\n",
        "\n",
        "*   키(key)와 값(Value)의 쌍을 데이터로 가지는 자료형\n",
        "  * 리스트나 튜플이 값을 순차적으로 저장하는 것과 대비됨\n",
        "*   키와 값의 쌍을 데이터로 가지고, 원하는 \"변경 불가능한 자료형\"을 키로 사용\n",
        "*   파이썬의 사전자료형은 해시 테이블(Hash Table)을 이용 => 데이터의 조회 및 수정에 있어서 O(1)의 시간에 처리가능   \n",
        "\n"
      ],
      "metadata": {
        "id": "d6wejVrzQeGz"
      }
    },
    {
      "cell_type": "code",
      "execution_count": null,
      "metadata": {
        "colab": {
          "base_uri": "https://localhost:8080/"
        },
        "id": "B3otfPn_QBZy",
        "outputId": "d8daf369-67d4-4f38-8831-d6abe8486a13"
      },
      "outputs": [
        {
          "output_type": "stream",
          "name": "stdout",
          "text": [
            "{'초록색': 'Green', '검정색': 'Black', '파랑색': 'Blue'}\n",
            "'초록색'을 키로 가지는 데이터가 존재합니다. \n"
          ]
        }
      ],
      "source": [
        "color = dict()\n",
        "color['초록색'] = 'Green'\n",
        "color['검정색'] = 'Black'\n",
        "color['파랑색'] = 'Blue'\n",
        "\n",
        "print(color)\n",
        "\n",
        "if '초록색' in color:\n",
        "  print(\"'초록색'을 키로 가지는 데이터가 존재합니다. \")\n"
      ]
    },
    {
      "cell_type": "markdown",
      "source": [
        "## 사전 자료형 관련 메서드\n",
        "\n",
        "*   사전 자료형에서는 키와 값을 별도로 뽑아내기 위한 메서드를 지원함\n",
        "    * key 데이터만 뽑아서 리스트로 이용할 때는 keys() 함수 사용 \n",
        "    * value 데이터만을 뽑아서 리스트로 이용할 때는 values() 함수 사용  "
      ],
      "metadata": {
        "id": "mIFt2FsnSOp0"
      }
    },
    {
      "cell_type": "code",
      "source": [
        "# 사전 자료형 관련 함수_연습1\n",
        "\n",
        "color = dict()\n",
        "color['초록색'] = 'Green'\n",
        "color['검정색'] = 'Black'\n",
        "color['파랑색'] = 'Blue'\n",
        "\n",
        "# key 데이터만 담은 리스트\n",
        "key_list = color.keys()\n",
        "\n",
        "# value 데이터만 담은 리스트\n",
        "value_list = color.values()\n",
        "\n",
        "print(key_list)\n",
        "print(value_list)\n",
        "\n",
        "# 각 key에 따른 값을 하나씩 출력해보기\n",
        "for key in key_list:\n",
        "  print(color[key])"
      ],
      "metadata": {
        "colab": {
          "base_uri": "https://localhost:8080/"
        },
        "id": "fCQ-UimsSrPo",
        "outputId": "0e2f12e3-fd9e-4357-c9d3-56ec7bed7082"
      },
      "execution_count": null,
      "outputs": [
        {
          "output_type": "stream",
          "name": "stdout",
          "text": [
            "dict_keys(['초록색', '검정색', '파랑색'])\n",
            "dict_values(['Green', 'Black', 'Blue'])\n",
            "Green\n",
            "Black\n",
            "Blue\n"
          ]
        }
      ]
    },
    {
      "cell_type": "code",
      "source": [
        "# 사전 자료형 관련 함수_연습2\n",
        "\n",
        "a = dict()\n",
        "a['국어'] = 85\n",
        "a['수학'] = 90\n",
        "a['영어'] = 95\n",
        "\n",
        "print(a)\n",
        "\n",
        "b = {\n",
        "     '국어' : 85,\n",
        "     '수학' : 90,\n",
        "     '영어' : 95\n",
        "}\n",
        "\n",
        "print(b)\n",
        "print(b['영어'])\n",
        "\n",
        "key_list = list(b.keys())\n",
        "print(key_list)"
      ],
      "metadata": {
        "colab": {
          "base_uri": "https://localhost:8080/"
        },
        "id": "qTeVcyZ1T0KH",
        "outputId": "40f735eb-50c4-4651-cfc0-620ea079c45b"
      },
      "execution_count": null,
      "outputs": [
        {
          "output_type": "stream",
          "name": "stdout",
          "text": [
            "{'국어': 85, '수학': 90, '영어': 95}\n",
            "{'국어': 85, '수학': 90, '영어': 95}\n",
            "95\n",
            "['국어', '수학', '영어']\n"
          ]
        }
      ]
    },
    {
      "cell_type": "markdown",
      "source": [
        "## 4-2. 집합 자료형\n",
        "\n",
        "\n",
        "*   특징 : 중복을 허용하지 않고 순서가 없음\n",
        "*   리스트 혹은 문자열을 이용해서 초기화 가능\n",
        "    * set() 함수 사용\n",
        "*   혹은 중괄호({})안에 각 원소를 콤마(,)를 기준으로 구분하여 삽입 => 초기화 가능\n",
        "* 데이터 조회 및 수정할 경우, O(1)의 시간에 처리\n"
      ],
      "metadata": {
        "id": "9NO00gc_UxfK"
      }
    },
    {
      "cell_type": "code",
      "source": [
        "# 초기화 방법1\n",
        "a = set([1,1,1,2,3,4,4,4,5])\n",
        "print(a)\n",
        "\n",
        "# 초기화 방법2\n",
        "a = {1,3,3,6,6,9}\n",
        "print(a)"
      ],
      "metadata": {
        "colab": {
          "base_uri": "https://localhost:8080/"
        },
        "id": "2fnIXvbTVr5x",
        "outputId": "11d6ecc4-5b6d-4685-e10e-066993904aee"
      },
      "execution_count": null,
      "outputs": [
        {
          "output_type": "stream",
          "name": "stdout",
          "text": [
            "{1, 2, 3, 4, 5}\n",
            "{1, 3, 6, 9}\n"
          ]
        }
      ]
    },
    {
      "cell_type": "markdown",
      "source": [
        "## 집합 자료형의 연산\n",
        "\n",
        "\n",
        "*   기본적인 집합 연산 : 합집합, 교집합, 차집합 연산 등\n",
        "    * 합집합 : 집합 A에 속하거나 B에 속하는 원소로 이루어진 집합(A ∪ B)\n",
        "    * 교집합 : 집합 A에도 속하고 B에도 속하는 원소로 이루어진 집합(A ∩ B)\n",
        "    * 차집합 : 집합 A의 원소 중에서 B에 속하지 않는 원소들로 이루어진 집합(A - B)\n",
        "\n"
      ],
      "metadata": {
        "id": "1JCNoFqGWHfB"
      }
    },
    {
      "cell_type": "code",
      "source": [
        "a = set([0,2,3,4,6,8,15])\n",
        "b = set([3,6,9,12,15,18])\n",
        "\n",
        "# 합집합\n",
        "print(a | b)\n",
        "\n",
        "# 교집합\n",
        "print(a & b)\n",
        "\n",
        "# 차집합\n",
        "print(a - b)"
      ],
      "metadata": {
        "colab": {
          "base_uri": "https://localhost:8080/"
        },
        "id": "0j6lqgJMW0QE",
        "outputId": "6973e556-00a0-4654-d79c-6030fc7329d8"
      },
      "execution_count": null,
      "outputs": [
        {
          "output_type": "stream",
          "name": "stdout",
          "text": [
            "{0, 2, 3, 4, 6, 8, 9, 12, 15, 18}\n",
            "{3, 6, 15}\n",
            "{0, 8, 2, 4}\n"
          ]
        }
      ]
    },
    {
      "cell_type": "code",
      "source": [
        "# 집합 자료형 관련 함수_연습1\n",
        "\n",
        "a = set([1,2,3,4,5])\n",
        "print(a)\n",
        "\n",
        "# 새로운 원소 추가\n",
        "a.add(6)\n",
        "print(a)\n",
        "\n",
        "# 새로운 원소 N개 추가\n",
        "a.update([7,8,9,10])\n",
        "print(a)\n",
        "\n",
        "# 특정한 값을 갖는 원소 제거\n",
        "a.remove(1)\n",
        "print(a)"
      ],
      "metadata": {
        "colab": {
          "base_uri": "https://localhost:8080/"
        },
        "id": "bFSFEKEGXQvL",
        "outputId": "2ac281e0-cf47-40ac-ca4a-f7204addecf7"
      },
      "execution_count": null,
      "outputs": [
        {
          "output_type": "stream",
          "name": "stdout",
          "text": [
            "{1, 2, 3, 4, 5}\n",
            "{1, 2, 3, 4, 5, 6}\n",
            "{1, 2, 3, 4, 5, 6, 7, 8, 9, 10}\n",
            "{2, 3, 4, 5, 6, 7, 8, 9, 10}\n"
          ]
        }
      ]
    }
  ]
}