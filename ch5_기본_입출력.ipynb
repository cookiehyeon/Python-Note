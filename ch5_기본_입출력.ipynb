{
  "nbformat": 4,
  "nbformat_minor": 0,
  "metadata": {
    "colab": {
      "provenance": []
    },
    "kernelspec": {
      "name": "python3",
      "display_name": "Python 3"
    },
    "language_info": {
      "name": "python"
    }
  },
  "cells": [
    {
      "cell_type": "markdown",
      "source": [
        "# 5. 기본 입출력\n",
        "* 모든 프로그램은 적절한 입출력 양식을 갖고 있음\n",
        "* 프로그램 동작의 1번째 단계는 데이터를 입력 받거나 생성하는 것\n",
        "  * ex) 학생의 성적 데이터가 주어지고, 이를 오름차순으로 정렬한 결과를 출력"
      ],
      "metadata": {
        "id": "rDHwKiRDYo9A"
      }
    },
    {
      "cell_type": "code",
      "execution_count": 1,
      "metadata": {
        "colab": {
          "base_uri": "https://localhost:8080/",
          "height": 186
        },
        "id": "po3bghM2Yi0E",
        "outputId": "32e96252-7d33-4209-fca8-8b954ad77df8"
      },
      "outputs": [
        {
          "output_type": "display_data",
          "data": {
            "image/png": "[encoded data removed]",
            "text/plain": [
              "<IPython.core.display.Image object>"
            ]
          },
          "metadata": {}
        }
      ],
      "source": [
        "from IPython.display import Image, display\n",
        "display(Image('/content/drive/MyDrive/Python_Note/img/basic_input.png'))"
      ]
    },
    {
      "cell_type": "markdown",
      "source": [
        "## 5-1. 표준 입력 방법\n",
        "\n",
        "\n",
        "*   input() 함수 : 한 줄의 문자열을 입력 받는 함수\n",
        "*   map() 함수 : 리스트의 모든 원소에 각각 특정한 함수를 적용할 때 사용\n",
        "* ex. 공백을 기준으로 구분된 데이터를 입력 받을 경우\n",
        "      * list(map(int, input().split()))\n",
        "\n",
        "* ex. 공백을 기준으로 구분된 데이터의 개수가 많지 않은 경우, 단순하게 사용\n",
        "      * x, y, z = map(int, input().split())\n",
        "   \n",
        "\n"
      ],
      "metadata": {
        "id": "5fP7qJ1EfzXj"
      }
    },
    {
      "cell_type": "markdown",
      "source": [
        "### 입력코드"
      ],
      "metadata": {
        "id": "wtlInWq8g-xv"
      }
    },
    {
      "cell_type": "code",
      "source": [
        "# 데이터의 개수 입력\n",
        "n = int(input())\n",
        "\n",
        "# 각 데이터를 공백을 기준으로 구분하여 입력\n",
        "a = list(map(int, input().split()))\n",
        "\n",
        "a.sort()\n",
        "print(a)"
      ],
      "metadata": {
        "colab": {
          "base_uri": "https://localhost:8080/"
        },
        "id": "BZtrLFvofqhS",
        "outputId": "44b533e4-f2db-41ea-8cb1-476ec996f4d1"
      },
      "execution_count": 2,
      "outputs": [
        {
          "output_type": "stream",
          "name": "stdout",
          "text": [
            "5\n",
            "95 75 80 100 85\n",
            "[75, 80, 85, 95, 100]\n"
          ]
        }
      ]
    },
    {
      "cell_type": "code",
      "source": [
        "# 단순히 몇개의 데이터가 공백 기준으로 구분하여 입력이 정해진 경우\n",
        "\n",
        "x, y, z = map(int, input().split())\n",
        "print(x, y, z)"
      ],
      "metadata": {
        "colab": {
          "base_uri": "https://localhost:8080/"
        },
        "id": "n-YXJubZh0LG",
        "outputId": "aac78f3e-4067-4a7e-f7cc-f3b6bd75f258"
      },
      "execution_count": 3,
      "outputs": [
        {
          "output_type": "stream",
          "name": "stdout",
          "text": [
            "3 6 9\n",
            "3 6 9\n"
          ]
        }
      ]
    },
    {
      "cell_type": "markdown",
      "source": [
        "### 참고) 문자열 빠르게 입력 받기\n",
        "\n",
        "* User로부터 입력을 최대한 빠르게 받아야 하는 경우가 존재\n",
        "* 파이썬의 경우 sys 라이브러리에 정의되어 있는 sys.stdin.readline() 메서드 사용\n",
        "    * 단, 입력 후 엔터는 줄 바꿈 기호로 입력되므로 rstrip() 메서드 함께 사용할 것"
      ],
      "metadata": {
        "id": "4UB2AAB3ieWC"
      }
    },
    {
      "cell_type": "code",
      "source": [
        "import sys\n",
        "\n",
        "a = sys.stdin.readline().rstrip()\n",
        "print(a)"
      ],
      "metadata": {
        "colab": {
          "base_uri": "https://localhost:8080/"
        },
        "id": "e6qn--2ojaaY",
        "outputId": "2228ea00-7469-49cd-ab97-04fa6c347d02"
      },
      "execution_count": 4,
      "outputs": [
        {
          "output_type": "stream",
          "name": "stdout",
          "text": [
            "\n"
          ]
        }
      ]
    },
    {
      "cell_type": "markdown",
      "source": [
        "## 5-2. 표준 출력 방법\n",
        "\n",
        "*   기본 출력은 print() 함수 사용\n",
        "    *   각 변수를 콤마(,)를 사용하여 띄어쓰기로 구분하여 출력\n",
        "*   print()는 기본적으로 출력 이후에 줄 바꿈을 수행\n",
        "    *   줄 바꿈을 원치 않는 경우, 'end' 속성을 이용\n"
      ],
      "metadata": {
        "id": "CiIe_Wc6js4C"
      }
    },
    {
      "cell_type": "markdown",
      "source": [
        "### 출력코드"
      ],
      "metadata": {
        "id": "zda0p_2kkOk2"
      }
    },
    {
      "cell_type": "code",
      "source": [
        "a = 3\n",
        "b = 6\n",
        "print(a, b)\n",
        "print(20, end=\" \")\n",
        "print(23, end=\" \")\n",
        "\n",
        "# 출력할 변수\n",
        "answer = 23\n",
        "print(\"정답은\" + str(answer) + \"입니다!\")"
      ],
      "metadata": {
        "colab": {
          "base_uri": "https://localhost:8080/"
        },
        "id": "xm2fOpo4keL5",
        "outputId": "9490ca63-229c-4f50-9d4e-523862cde4d5"
      },
      "execution_count": 5,
      "outputs": [
        {
          "output_type": "stream",
          "name": "stdout",
          "text": [
            "3 6\n",
            "20 23 정답은23입니다!\n"
          ]
        }
      ]
    },
    {
      "cell_type": "markdown",
      "source": [
        "### f-string\n",
        "\n",
        "\n",
        "*   Python 3.6부터 사용 가능, 문자열 앞에 접두사 'f'를 붙여 사용\n",
        "*   중괄호 안에 변수명을 기입, 간단히 문자열과 정수를 함께 넣을 수 있음\n",
        "\n"
      ],
      "metadata": {
        "id": "12n-8OPdlLqY"
      }
    },
    {
      "cell_type": "code",
      "source": [
        "answer = 23\n",
        "print(f\"정답은 {answer}입니다!\")"
      ],
      "metadata": {
        "colab": {
          "base_uri": "https://localhost:8080/"
        },
        "id": "dPqH7qbXlb8t",
        "outputId": "4d32512e-a81c-41c8-9cfb-b692741dea6c"
      },
      "execution_count": 6,
      "outputs": [
        {
          "output_type": "stream",
          "name": "stdout",
          "text": [
            "정답은 23입니다!\n"
          ]
        }
      ]
    }
  ]
}