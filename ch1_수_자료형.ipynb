{
  "nbformat": 4,
  "nbformat_minor": 0,
  "metadata": {
    "colab": {
      "provenance": [],
      "toc_visible": true
    },
    "kernelspec": {
      "name": "python3",
      "display_name": "Python 3"
    },
    "language_info": {
      "name": "python"
    }
  },
  "cells": [
    {
      "cell_type": "markdown",
      "source": [
        "# 1. 수 자료형"
      ],
      "metadata": {
        "id": "vRIall01DpV4"
      }
    },
    {
      "cell_type": "markdown",
      "source": [
        "## 1-1. 정수형(integer)\n",
        "\n",
        "\n",
        "*   정수를 다루는 자료형\n",
        "  * 양의 정수, 음의 정수, 0이 포함"
      ],
      "metadata": {
        "id": "HkW2_jUUCSlS"
      }
    },
    {
      "cell_type": "code",
      "execution_count": null,
      "metadata": {
        "colab": {
          "base_uri": "https://localhost:8080/"
        },
        "id": "c7N8t0afCEe-",
        "outputId": "b9f09c75-1631-493f-aaa6-cdb49fb887ac"
      },
      "outputs": [
        {
          "output_type": "stream",
          "name": "stdout",
          "text": [
            "2023\n",
            "-2023\n",
            "0\n"
          ]
        }
      ],
      "source": [
        "# 양의 정수\n",
        "a = 2023\n",
        "print(a)\n",
        "\n",
        "# 음의 정수\n",
        "a = -2023\n",
        "print(a)\n",
        "\n",
        "# 0\n",
        "a = 0\n",
        "print(a)"
      ]
    },
    {
      "cell_type": "markdown",
      "source": [
        "## 1-2. 실수형(float)\n",
        "\n",
        "\n",
        "*   소수점 아래의 데이터를 포함하는 수 자료형\n",
        "  * 파이썬에서는 변수에 소수점을 붙인 수를 대입 => 실수형 변수로 처리\n",
        "  * 소수부가 0 또는 정수부가 0인 소수는 0을 생략 가능"
      ],
      "metadata": {
        "id": "QafmprO_CZrQ"
      }
    },
    {
      "cell_type": "code",
      "source": [
        "# 양의 실수\n",
        "a = 2023.01\n",
        "print(a)\n",
        "\n",
        "# 음의 실수\n",
        "a = -2023.01\n",
        "print(a)\n",
        "\n",
        "# 소수부가 0일 때 0을 생략\n",
        "a = 1.\n",
        "print(a)\n",
        "\n",
        "# 정수부가 0일때 0을 생략\n",
        "a = -.1\n",
        "print(a)"
      ],
      "metadata": {
        "colab": {
          "base_uri": "https://localhost:8080/"
        },
        "id": "KXY_pucTCakz",
        "outputId": "6c139de3-ea26-4f46-b964-3ca6238ddb84"
      },
      "execution_count": null,
      "outputs": [
        {
          "output_type": "stream",
          "name": "stdout",
          "text": [
            "2023.01\n",
            "-2023.01\n",
            "1.0\n",
            "-0.1\n"
          ]
        }
      ]
    },
    {
      "cell_type": "markdown",
      "source": [
        "## 1-3. 수 자료형의 연산\n",
        "\n",
        "\n",
        "*   사칙연산과 나머지 연산자가 주로 사용\n",
        "*   단, 나누기 연산자(/)는 주의해서 사용할것\n",
        "  * 파이썬에서 나누기 연산자(/)는 나눠진 결과를 실수형으로 반환함\n",
        "*   다양한 로직을 작성할 때 나머지 연산자(%)를 이용하는 경우가 많다\n",
        "  * ex) a가 홀수인지 체크할 경우\n",
        "*  파이썬에서는 몫을 얻기 위해 몫 연산자(//)를 사용\n",
        "*  이외 거듭 제곱 연산자(**)를 비롯한 다양한 연산자들이 존재"
      ],
      "metadata": {
        "id": "OYy96F0dCfcR"
      }
    },
    {
      "cell_type": "markdown",
      "source": [
        "### 간단한 수식"
      ],
      "metadata": {
        "id": "nCYozJtfCmZm"
      }
    },
    {
      "cell_type": "code",
      "source": [
        "a = 2\n",
        "b = 3\n",
        "\n",
        "# 더하기\n",
        "print(a + b)\n",
        "\n",
        "# 빼기\n",
        "print(a - b)\n",
        "\n",
        "# 곱셈\n",
        "print(a * b)\n",
        "\n",
        "# 나누기\n",
        "print(a / b)\n",
        "\n",
        "# 나머지\n",
        "print(a % b)\n",
        "\n",
        "# 몫\n",
        "print(a // b)\n",
        "\n",
        "# 거듭제곱\n",
        "print(a ** b)\n",
        "\n",
        "# 제곱근\n",
        "print(a ** 0.5)"
      ],
      "metadata": {
        "id": "vLFU7CkvCgwb"
      },
      "execution_count": null,
      "outputs": []
    }
  ]
}