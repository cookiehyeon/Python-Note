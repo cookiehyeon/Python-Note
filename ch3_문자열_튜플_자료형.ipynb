{
  "nbformat": 4,
  "nbformat_minor": 0,
  "metadata": {
    "colab": {
      "provenance": []
    },
    "kernelspec": {
      "name": "python3",
      "display_name": "Python 3"
    },
    "language_info": {
      "name": "python"
    }
  },
  "cells": [
    {
      "cell_type": "markdown",
      "source": [
        "# 3. 문자열 & 튜플 자료형"
      ],
      "metadata": {
        "id": "N9ilRt54LAOJ"
      }
    },
    {
      "cell_type": "markdown",
      "source": [
        "# 3-1 문자열 자료형\n",
        "\n",
        "\n",
        "*   문자열 변수를 초기화 할 때, 큰 따옴표(\") 또는 작은 따옴표(')를 사용\n",
        "*   문자열 안에 큰 따옴표 또는 작은 따옴표가 포함되는 경우\n",
        "    * 전체 문자열을 큰 따옴표로 사용할 경우, 내부적으로 작은 따옴표 포함할 수 있음\n",
        "    * 전체 문자열을 작은 따옴표로 사용할 경우, 내부적으로 큰 따옴표를 포함할 수 있음\n"
      ],
      "metadata": {
        "id": "OypbSuFKGYTn"
      }
    },
    {
      "cell_type": "code",
      "execution_count": null,
      "metadata": {
        "colab": {
          "base_uri": "https://localhost:8080/"
        },
        "id": "0_mr_t1lGKYZ",
        "outputId": "ef75aaed-9557-45d9-a440-5a4e57939812"
      },
      "outputs": [
        {
          "output_type": "stream",
          "name": "stdout",
          "text": [
            "Hello World\n"
          ]
        }
      ],
      "source": [
        "word = 'Hello World'\n",
        "print(word)"
      ]
    },
    {
      "cell_type": "markdown",
      "source": [
        "## 문자열 연산\n",
        "\n",
        "*   문자열 변수에 덧셈(+)을 사용할 경우, 문자열이 더해져 연결됨\n",
        "*   문자열 변수를 특정한 양의 정수와 곱했을 경우, 문자열이 그 값만큼 여러번 더해짐\n",
        "*   문자열에서도 인덱싱과 슬라이싱 사용가능\n",
        "    * 단, 문자열은 특정 인덱스의 값을 변경할 수 없음."
      ],
      "metadata": {
        "id": "hHavayXyJd9n"
      }
    },
    {
      "cell_type": "code",
      "source": [
        "a = \"Python\"\n",
        "b = \"is Amazing\"\n",
        "print(a + \" \" + b)\n",
        "\n",
        "a = \"Hello\"\n",
        "print(a * 4)\n",
        "\n",
        "a = \"world\"\n",
        "print(a[1:3])"
      ],
      "metadata": {
        "colab": {
          "base_uri": "https://localhost:8080/"
        },
        "id": "CDSv_ys7KDcv",
        "outputId": "be15b131-6c70-4815-f75b-2dc6907ff4c0"
      },
      "execution_count": null,
      "outputs": [
        {
          "output_type": "stream",
          "name": "stdout",
          "text": [
            "Python is Amazing\n",
            "HelloHelloHelloHello\n",
            "or\n"
          ]
        }
      ]
    },
    {
      "cell_type": "markdown",
      "source": [
        "# 3-2 튜플 자료형\n",
        "\n",
        "*   튜플 자료형은 리스트와 유사하지만 문법적 차이가 있음\n",
        "    * 튜플 : 소괄호(())를 사용, 한번 선언된 값을 변경할 수 없음\n",
        "    * 리스트 : 대괄호([])를 사용\n",
        "*   튜플은 리스트에 비해 상대적으로 공간 효율적"
      ],
      "metadata": {
        "id": "0IB5gjCOLQaG"
      }
    },
    {
      "cell_type": "code",
      "source": [
        "a = (1,2,3,4,5,6,7,8,9)\n",
        "\n",
        "# 5번째 원소만 출력\n",
        "print(a[4])\n",
        "\n",
        "# 2번째 원소부터 5번째 원소까지\n",
        "print(a[1:5])"
      ],
      "metadata": {
        "colab": {
          "base_uri": "https://localhost:8080/"
        },
        "id": "hdw9_BodL9ZF",
        "outputId": "5f5e2b4b-926e-4417-f407-71c6050c21c5"
      },
      "execution_count": null,
      "outputs": [
        {
          "output_type": "stream",
          "name": "stdout",
          "text": [
            "5\n",
            "(2, 3, 4, 5)\n"
          ]
        }
      ]
    },
    {
      "cell_type": "markdown",
      "source": [
        "    [참고] 특정한 인덱스의 값을 바꿀려고 할때, \n",
        "    튜플은 변경불가능한 객체이므로 원소할당 연산을 지원하지 않는다는 오류메세지 뜸"
      ],
      "metadata": {
        "id": "-IEfCsYJNIDM"
      }
    },
    {
      "cell_type": "code",
      "source": [
        "from IPython.display import Image, display\n",
        "display(Image('/content/drive/MyDrive/Python_Note/img/tuple_error.png'))"
      ],
      "metadata": {
        "colab": {
          "base_uri": "https://localhost:8080/",
          "height": 412
        },
        "id": "f7BK0eHcNzOu",
        "outputId": "2f6de3d8-e0c2-4749-c5b4-b77c071df9ea"
      },
      "execution_count": null,
      "outputs": [
        {
          "output_type": "display_data",
          "data": {
            "image/png": "[encoded data removed]",
            "text/plain": [
              "<IPython.core.display.Image object>"
            ]
          },
          "metadata": {}
        }
      ]
    }
  ]
}