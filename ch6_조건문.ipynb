{
  "nbformat": 4,
  "nbformat_minor": 0,
  "metadata": {
    "colab": {
      "provenance": []
    },
    "kernelspec": {
      "name": "python3",
      "display_name": "Python 3"
    },
    "language_info": {
      "name": "python"
    }
  },
  "cells": [
    {
      "cell_type": "markdown",
      "source": [
        "# 6. 조건문\n",
        "\n",
        "\n",
        "*   조건문은 프로그램의 흐름을 제어하는 문법\n",
        "*   조건문을 이용해 조건에 따라서 프로그램의 로직을 설정함\n",
        "\n"
      ],
      "metadata": {
        "id": "ibA_M8wtLoaC"
      }
    },
    {
      "cell_type": "code",
      "execution_count": 4,
      "metadata": {
        "colab": {
          "base_uri": "https://localhost:8080/"
        },
        "id": "cVST2CWoLYoi",
        "outputId": "c1d3a065-6a30-4622-ee65-d1b29dd6f809"
      },
      "outputs": [
        {
          "output_type": "stream",
          "name": "stdout",
          "text": [
            "a >= 2014\n",
            "a >= 0\n"
          ]
        }
      ],
      "source": [
        "a = 2023\n",
        "if a >= 2014:\n",
        "  print(\"a >= 2014\")\n",
        "\n",
        "if a >= 0:\n",
        "  print(\"a >= 0\")\n",
        "\n",
        "if a >= 2024:\n",
        "  print(\"a >= 2024\")"
      ]
    },
    {
      "cell_type": "markdown",
      "source": [
        "### [참고] 들여쓰기\n",
        "\n",
        "*   파이썬에서는 코드의 블록(Block)을 들여쓰기(Indent)로 지정함\n",
        "*   탭을 사용 또는 공백 문자(space)를 여러 번 사용\n",
        "*   파이썬 표준 가이드라인 설정 : 4개의 공백의 문자 사용\n"
      ],
      "metadata": {
        "id": "oFJ5UDxXNH1z"
      }
    },
    {
      "cell_type": "code",
      "source": [
        "score = 80\n",
        "\n",
        "if score >= 60:\n",
        "  print('합격 커트라인은 60점 이상입니다.')\n",
        "  if score >= 90:\n",
        "    print('우수한 성적으로 합격하셨습니다.')\n",
        "else:\n",
        "  print('60점 미만으로 불합격입니다.')\n",
        "  print('다음 회차에 도전해주세요')\n",
        "\n",
        "print('창을 닫아주세요.')  # 마지막 print 구문 무조건 실행되는 것을 확인"
      ],
      "metadata": {
        "colab": {
          "base_uri": "https://localhost:8080/"
        },
        "id": "ieSIRDEMNHgl",
        "outputId": "93d957cc-927d-4165-d34a-6d2003058e5b"
      },
      "execution_count": 6,
      "outputs": [
        {
          "output_type": "stream",
          "name": "stdout",
          "text": [
            "합격 커트라인은 60점 이상입니다.\n",
            "창을 닫아주세요.\n"
          ]
        }
      ]
    },
    {
      "cell_type": "markdown",
      "source": [
        "## 6-1. 조건문의 기본 형태\n",
        "\n",
        "\n",
        "*   조건문의 기본적인 형태는 if ~ elif ~ else\n",
        "    * 조건문을 사용할 때 elif 혹은 else 부분은 경우에 따라 사용하지 않아도 됨\n",
        "\n",
        "\n",
        "\n",
        "\n",
        "\n",
        "\n"
      ],
      "metadata": {
        "id": "C5sW7nioOnfC"
      }
    },
    {
      "cell_type": "markdown",
      "source": [
        "### if 조건문의 기본형(1단계)"
      ],
      "metadata": {
        "id": "mHLHod7wdjL0"
      }
    },
    {
      "cell_type": "code",
      "source": [
        "'''\n",
        "\n",
        "if 조건:\n",
        "--> 명령문\n",
        "\n",
        "    해석)\n",
        "    만약 조건이 참이라면\n",
        "    (들여쓰기 된)명령문을 실행해줘!\n",
        "\n",
        "    if 비밀번호 일치:\n",
        "    -->환영의 메시지 출력\n",
        "\n",
        "'''"
      ],
      "metadata": {
        "id": "pCqGFHokrMEG"
      },
      "execution_count": null,
      "outputs": []
    },
    {
      "cell_type": "markdown",
      "source": [
        "### if 조건문의 표준형(2단계)"
      ],
      "metadata": {
        "id": "YK26_XDbdZr4"
      }
    },
    {
      "cell_type": "code",
      "source": [
        "'''\n",
        "\n",
        "if 조건:\n",
        "-->명령문A\n",
        "\n",
        "else:\n",
        "-->명령문B\n",
        "\n",
        "    해석)\n",
        "    만약 조건이 참이라면 명령문A를\n",
        "    그렇지 않다면 명령문B를 실행해줘!\n",
        "\n",
        "    if 비밀번호 일치:\n",
        "    -->환영의 메시지 출력\n",
        "    else:\n",
        "    -->틀렸다는 메시지 출력\n",
        "\n",
        "'''"
      ],
      "metadata": {
        "id": "lgePwq0cdonR"
      },
      "execution_count": null,
      "outputs": []
    },
    {
      "cell_type": "markdown",
      "source": [
        "### if 조건문의 확장형(3단계)"
      ],
      "metadata": {
        "id": "3g2JEKzfd6N3"
      }
    },
    {
      "cell_type": "code",
      "source": [
        "'''\n",
        "    if 조건1:\n",
        "        명령문A\n",
        "    elif 조건2:\n",
        "        명령문B\n",
        "    else 조건3:\n",
        "        명령문C\n",
        "\n",
        "# 해석)\n",
        "    만약 조건1이 참이라면 명령문A를\n",
        "    그렇지 않다면 조건2가 참이라면 명령문B를\n",
        "    모든 조건에 해당없다면 명령문 C를 실행해줘!\n",
        "\n",
        "```"
      ],
      "metadata": {
        "id": "OzyH7vVrdz1t"
      },
      "execution_count": null,
      "outputs": []
    },
    {
      "cell_type": "markdown",
      "source": [
        "### 연습1"
      ],
      "metadata": {
        "id": "vsslcvREr78V"
      }
    },
    {
      "cell_type": "code",
      "source": [
        "if 조건문 1:\n",
        "  조건문 1이 True일 때 실행되는 코드\n",
        "\n",
        "elif 조건문 2:\n",
        "  조건문 1에 해당하지 않고, 조건문 2가 True일 때 실행되는 코드\n",
        "\n",
        "else:\n",
        "  위의 모든 조건문이 모두 True 값이 아닐 때 실행되는 코드"
      ],
      "metadata": {
        "id": "K8cBohPAswqS"
      },
      "execution_count": null,
      "outputs": []
    },
    {
      "cell_type": "code",
      "source": [
        "a = -2023\n",
        "\n",
        "if a >= 0:\n",
        "  print(\"a >= 0\")\n",
        "\n",
        "elif a >= -5:\n",
        "  print(\"0 > a >= -5\")\n",
        "\n",
        "else:\n",
        "  print(\"-5 > a\")"
      ],
      "metadata": {
        "colab": {
          "base_uri": "https://localhost:8080/"
        },
        "id": "7BwkGTWEQGMh",
        "outputId": "50a5b1d7-2ce2-4bf4-88a6-c53e13f4f95f"
      },
      "execution_count": 10,
      "outputs": [
        {
          "output_type": "stream",
          "name": "stdout",
          "text": [
            "-5 > a\n"
          ]
        }
      ]
    },
    {
      "cell_type": "code",
      "source": [
        "score = 55\n",
        "\n",
        "if score >= 60:\n",
        "  print(\"점수 : A\")\n",
        "  \n",
        "elif score >= 50:\n",
        "    print(\"점수 : B\")\n",
        "elif score >= 40:\n",
        "  print(\"점수 : C\")\n",
        "else:\n",
        "  print(\"점수 : 과락\")"
      ],
      "metadata": {
        "colab": {
          "base_uri": "https://localhost:8080/"
        },
        "id": "g7_HhjJHQ-H3",
        "outputId": "bae84fe0-f829-4c08-8941-c04932155cfb"
      },
      "execution_count": 13,
      "outputs": [
        {
          "output_type": "stream",
          "name": "stdout",
          "text": [
            "점수 : B\n"
          ]
        }
      ]
    },
    {
      "cell_type": "markdown",
      "source": [
        "## 6-2. 비교 연산자\n",
        "\n",
        "\n",
        "\n",
        "*   특정한 두 값을 비교할 때 사용\n",
        "    * 단, 대입 연산자(=)와 같음 연산자(==)의 차이점에 유의할것\n",
        "\n"
      ],
      "metadata": {
        "id": "aKtTPzkJSbY-"
      }
    },
    {
      "cell_type": "code",
      "source": [
        "from IPython.display import Image, display\n",
        "display(Image('/content/drive/MyDrive/Python_Note/img/comparison_operator.png'))"
      ],
      "metadata": {
        "colab": {
          "base_uri": "https://localhost:8080/",
          "height": 420
        },
        "id": "ah2mE9xASZoX",
        "outputId": "63c87cd5-46dc-4789-91ba-170218e01a88"
      },
      "execution_count": 15,
      "outputs": [
        {
          "output_type": "display_data",
          "data": {
            "image/png": "[encoded data removed]",
            "text/plain": [
              "<IPython.core.display.Image object>"
            ]
          },
          "metadata": {}
        }
      ]
    },
    {
      "cell_type": "markdown",
      "source": [
        "## 6-3. 논리 연산자\n",
        "논리 값(True/False) 사이의 연산을 수행할 때 사용용"
      ],
      "metadata": {
        "id": "-W2c-QxGWfQg"
      }
    },
    {
      "cell_type": "code",
      "source": [
        "from IPython.display import Image, display\n",
        "display(Image('/content/drive/MyDrive/Python_Note/img/logical_operator.png'))"
      ],
      "metadata": {
        "colab": {
          "base_uri": "https://localhost:8080/",
          "height": 243
        },
        "id": "vlnf8JBoWcWu",
        "outputId": "5264e1f6-3529-4b34-a12a-50bd70bf840f"
      },
      "execution_count": 16,
      "outputs": [
        {
          "output_type": "display_data",
          "data": {
            "image/png": "[encoded data removed]",
            "text/plain": [
              "<IPython.core.display.Image object>"
            ]
          },
          "metadata": {}
        }
      ]
    },
    {
      "cell_type": "code",
      "source": [
        "# 논리 연산자로 or를 사용될 경우 Yes를 출력\n",
        "if True or False:\n",
        "  print('Yes')\n",
        "\n",
        "# and가 논리 연산자로 사용될 경우 아무것도 출력안됨\n",
        "if True and False:\n",
        "  print('Yes') "
      ],
      "metadata": {
        "colab": {
          "base_uri": "https://localhost:8080/"
        },
        "id": "B-uz2DIQYYZp",
        "outputId": "8e2f853e-f915-4b47-a88b-165cb527346f"
      },
      "execution_count": 25,
      "outputs": [
        {
          "output_type": "stream",
          "name": "stdout",
          "text": [
            "Yes\n"
          ]
        }
      ]
    },
    {
      "cell_type": "code",
      "source": [
        "a = 10\n",
        "\n",
        "if a <= 20 and a >= 0:\n",
        "  print(\"Yes\")"
      ],
      "metadata": {
        "colab": {
          "base_uri": "https://localhost:8080/"
        },
        "id": "JUvF12Y_ZD1I",
        "outputId": "7cd0e250-f03f-4f93-fba2-15eb27d25350"
      },
      "execution_count": 29,
      "outputs": [
        {
          "output_type": "stream",
          "name": "stdout",
          "text": [
            "Yes\n"
          ]
        }
      ]
    },
    {
      "cell_type": "markdown",
      "source": [
        "## 6-4. 기타 연산자\n",
        "\n",
        "\n",
        "*   파이썬에서는 다수의 데이터를 담는 자료형을 위해 in 연산자와 not in 연산자 제공함\n",
        "    * 리스트, 튜플, 문자열, 딕셔너리 모두 사용 가능능   \n",
        "\n"
      ],
      "metadata": {
        "id": "JQt-dfa-W1uE"
      }
    },
    {
      "cell_type": "code",
      "source": [
        "from IPython.display import Image, display\n",
        "display(Image('/content/drive/MyDrive/Python_Note/img/other_operator.png'))"
      ],
      "metadata": {
        "colab": {
          "base_uri": "https://localhost:8080/",
          "height": 187
        },
        "id": "-2wsci-PXGdt",
        "outputId": "4b79f196-ee56-45e9-d025-46bf202a5b02"
      },
      "execution_count": 17,
      "outputs": [
        {
          "output_type": "display_data",
          "data": {
            "image/png": "[encoded data removed]",
            "text/plain": [
              "<IPython.core.display.Image object>"
            ]
          },
          "metadata": {}
        }
      ]
    },
    {
      "cell_type": "markdown",
      "source": [
        "## 6-5. Pass 키워드\n",
        "\n",
        "\n",
        "*   파이썬에서는 아무것도 처리하고 싶지 않을 경우 pass 키워드 사용함\n",
        "*   ex) 디버깅 과정에서 조건문 형태만 만듬 -> 조건문을 처리 블럭은 비워놓고 싶을 경우\n",
        "\n"
      ],
      "metadata": {
        "id": "jKtKCtRuXQSC"
      }
    },
    {
      "cell_type": "code",
      "source": [
        "score = 60\n",
        "\n",
        "if score >= 40:\n",
        "  pass  # 추후에 작성할 소스코드\n",
        "else:\n",
        "  print('40점 미만으로 과락입니다.')\n",
        "\n",
        "print('다음 기회에 도전해주세요')"
      ],
      "metadata": {
        "colab": {
          "base_uri": "https://localhost:8080/"
        },
        "id": "7bOlrqc0XltO",
        "outputId": "6558bbe0-f888-40e6-ed23-72bf2523faac"
      },
      "execution_count": 21,
      "outputs": [
        {
          "output_type": "stream",
          "name": "stdout",
          "text": [
            "다음 기회에 도전해주세요\n"
          ]
        }
      ]
    },
    {
      "cell_type": "markdown",
      "source": [
        "## 6-6. 조건문의 간소화\n",
        "\n",
        "\n",
        "* 조건문에서 실행될 소스코드가 한 줄일 경우, 굳이 줄 바꿈을 하지 않고도 간략하게 표현가능\n",
        "\n"
      ],
      "metadata": {
        "id": "e3yzp1_LaNNG"
      }
    },
    {
      "cell_type": "code",
      "source": [
        "score = 60\n",
        "\n",
        "if score >= 40: result = \"Win\"\n",
        "else: result = \"Lose\"\n",
        "\n",
        "print(result)"
      ],
      "metadata": {
        "colab": {
          "base_uri": "https://localhost:8080/"
        },
        "id": "HXY_yM5XapXu",
        "outputId": "46d6cd05-03b1-4ab3-8b1e-55b373da272a"
      },
      "execution_count": 38,
      "outputs": [
        {
          "output_type": "stream",
          "name": "stdout",
          "text": [
            "Win\n"
          ]
        }
      ]
    },
    {
      "cell_type": "markdown",
      "source": [
        "* 조건부 표현식(Conditional Expression)은 if ~ else문을 한줄에 작성"
      ],
      "metadata": {
        "id": "CZaUXIc9aYob"
      }
    },
    {
      "cell_type": "code",
      "source": [
        "score = 60\n",
        "result = \"Win\" if score >= 40 else \"Lose\"\n",
        "\n",
        "print(result)"
      ],
      "metadata": {
        "colab": {
          "base_uri": "https://localhost:8080/"
        },
        "id": "xmAE-AslapEE",
        "outputId": "1e9508ce-98db-4f6a-fe2b-960168ee3a63"
      },
      "execution_count": 37,
      "outputs": [
        {
          "output_type": "stream",
          "name": "stdout",
          "text": [
            "Win\n"
          ]
        }
      ]
    },
    {
      "cell_type": "markdown",
      "source": [
        "## 6-7. 조건문 내에서의 부등식\n",
        "\n",
        "\n",
        "*   파이썬은 조건문 안에서 수학의 부등식을 그대로 사용 가능함\n",
        "*   ex) x > 20 and x < 30과 20 < x < 30 은 같은 결과를 반환함"
      ],
      "metadata": {
        "id": "vmr0WqI4brR6"
      }
    },
    {
      "cell_type": "code",
      "source": [
        "# 코드1\n",
        "\n",
        "x = 23\n",
        "if x > 20 and x < 30:\n",
        "  print('x는 20 이상 30 미만의 수')\n",
        "\n",
        "# 코드2\n",
        "\n",
        "x = 23\n",
        "if 20 < x < 30:\n",
        "  print(\"x는 20 이상 30 미만의 수\")"
      ],
      "metadata": {
        "colab": {
          "base_uri": "https://localhost:8080/"
        },
        "id": "gEZXcim2cDgi",
        "outputId": "465e1cb8-d540-48c1-ca6d-df7ca22ab36e"
      },
      "execution_count": 39,
      "outputs": [
        {
          "output_type": "stream",
          "name": "stdout",
          "text": [
            "x는 20 이상 30 미만의 수\n",
            "x는 20 이상 30 미만의 수\n"
          ]
        }
      ]
    },
    {
      "cell_type": "markdown",
      "source": [
        "### 실습\n",
        "\n",
        "* 로그인 프로그램 만들기(level3): 아이디와 비밀번호 입력\n",
        "\n",
        "  * 문제정의: 아이디와 비밀번호를 맞췄는지, 비밀번호만 틀렸는지 확인하는 프로그램 "
      ],
      "metadata": {
        "id": "rF42oYO5sGPt"
      }
    },
    {
      "cell_type": "code",
      "source": [
        "# 문제해결과정 절차적으로 설명해보기\n",
        "# 0) 아이디, 비밀번호가 저장되어 있음\n",
        "# 1) 아이디, 비밀번호 입력 받기\n",
        "# 2) 아이디, 비밀번호 일치 여부 확인\n",
        "# 3) 상황에 맞는 메시지 출력"
      ],
      "metadata": {
        "id": "LOuIKvprsW21"
      },
      "execution_count": null,
      "outputs": []
    },
    {
      "cell_type": "code",
      "source": [
        "id = 'welcome2023'\n",
        "pw = 'nice2'\n",
        "input_id = input('아이디를 입력하세요: ')\n",
        "input_pw = input('비밀번호를 입력하세요: ')\n",
        "\n",
        "if id == input_id and pw == input_pw:\n",
        "  print(\"로그인완료!\")\n",
        "elif id == input_id and pw != input_pw:\n",
        "  print('비밀번호가 틀렸습니다.')\n",
        "else:\n",
        "  print('로그인실패!')"
      ],
      "metadata": {
        "colab": {
          "base_uri": "https://localhost:8080/"
        },
        "id": "sgj6QTjTsYvL",
        "outputId": "e1e773ee-5ae6-441c-ebc5-13227d49807f"
      },
      "execution_count": 41,
      "outputs": [
        {
          "output_type": "stream",
          "name": "stdout",
          "text": [
            "아이디를 입력하세요: welcome2023\n",
            "비밀번호를 입력하세요: nice2\n",
            "로그인완료!\n"
          ]
        }
      ]
    }
  ]
}