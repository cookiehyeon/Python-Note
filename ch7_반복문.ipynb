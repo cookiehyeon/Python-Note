{
  "nbformat": 4,
  "nbformat_minor": 0,
  "metadata": {
    "colab": {
      "provenance": []
    },
    "kernelspec": {
      "name": "python3",
      "display_name": "Python 3"
    },
    "language_info": {
      "name": "python"
    }
  },
  "cells": [
    {
      "cell_type": "markdown",
      "source": [
        "# 7. 반복문\n",
        "\n",
        "\n",
        "*   특정한 소스코드를 반복적으로 실행하고자 할 때 사용하는 문법\n",
        "*   while문과 for문을 사용\n",
        "    *   while문 : 조건에 의한 반복\n",
        "    *  for문 : 데이터셋 반복\n",
        "\n"
      ],
      "metadata": {
        "id": "hCuFp5h6aLUE"
      }
    },
    {
      "cell_type": "markdown",
      "source": [
        "ex) 1부터 9까지 모든 정수의 합 구하기 - while문 사용"
      ],
      "metadata": {
        "id": "BftzafaUas4S"
      }
    },
    {
      "cell_type": "code",
      "execution_count": 2,
      "metadata": {
        "colab": {
          "base_uri": "https://localhost:8080/"
        },
        "id": "eEghtgDZLiYG",
        "outputId": "7a57503d-99da-4e1a-dce1-1ba1d588c88a"
      },
      "outputs": [
        {
          "output_type": "stream",
          "name": "stdout",
          "text": [
            "25\n"
          ]
        }
      ],
      "source": [
        "i = 1\n",
        "result = 0\n",
        "\n",
        "# i가 9보다 작거나 같을 때 아래 코드를 반복적으로 실행\n",
        "while i <= 9:\n",
        "  if i % 2 == 1:\n",
        "    result += i\n",
        "  i += 1\n",
        "\n",
        "print(result)"
      ]
    },
    {
      "cell_type": "markdown",
      "source": [
        "## 7-1. 반복문에서의 무한 루프\n",
        "\n",
        "*   무한루프(Infinite Loop)란 끊임없이 반복되는 반복 구문\n",
        "    * 반복문을 작성한 뒤 항상 반복문을 탈출이 가능한지 확인할것   \n",
        "\n"
      ],
      "metadata": {
        "id": "zev9njz3baDz"
      }
    },
    {
      "cell_type": "code",
      "source": [
        "x = 23\n",
        "\n",
        "while x > 10:\n",
        "  print(x)"
      ],
      "metadata": {
        "id": "V1qA3W1YbzZe"
      },
      "execution_count": null,
      "outputs": []
    },
    {
      "cell_type": "code",
      "source": [
        "while True:\n",
        "  i = input()\n",
        "  if i == 'p':\n",
        "    print(str(i)+'를 입력하셨습니다.')\n",
        "    break"
      ],
      "metadata": {
        "colab": {
          "base_uri": "https://localhost:8080/"
        },
        "id": "LIBGkALTpxqm",
        "outputId": "b4380d67-4570-4c91-cab2-ab71c5dcdb57"
      },
      "execution_count": 33,
      "outputs": [
        {
          "output_type": "stream",
          "name": "stdout",
          "text": [
            "20\n",
            "11\n",
            "i\n",
            "p\n",
            "p를 입력하셨습니다.\n"
          ]
        }
      ]
    },
    {
      "cell_type": "markdown",
      "source": [
        "## 7-2. for문\n",
        "\n",
        "\n",
        "*   반복문으로 for문 이용\n",
        "*   for문의 구조는 특정한 변수를 이용하여 'in' 뒤에 오는 \n",
        "\n",
        "    데이터(리스트, 튜플) 포함되어 있는 원소를 첫 번째 인덱스부터 차례대로 하나씩 방문\n",
        "\n"
      ],
      "metadata": {
        "id": "3SlRAuIBcGym"
      }
    },
    {
      "cell_type": "code",
      "source": [
        "# for A in B:\n",
        "# ->명령문\n",
        "\n",
        "'''\n",
        "\n",
        "    해석)\n",
        "    B(데이터셋)에서 데이터를 차례대로 하나씩 꺼내어 A(임시저장공간)에 불러오는 과정을 반복하며\n",
        "    (들여쓰기 된) 명령문을 실행해줘!\n",
        "\n",
        "\n",
        "'''"
      ],
      "metadata": {
        "id": "OD1Rx9A4j3pr"
      },
      "execution_count": null,
      "outputs": []
    },
    {
      "cell_type": "markdown",
      "source": [
        "## 7-3. while문\n",
        "\n",
        "* 반복문으로 while문 이용\n",
        "* 조건에 의해 반복할때\n",
        "* if와 다른점은?\n",
        "    - if는 조건이 참이면 명령문 실행\n",
        "    - while은 조건이 참이면 명령문 반복\n",
        "    - while은 if의 반복 버전!"
      ],
      "metadata": {
        "id": "0ooG3ZL6l1C9"
      }
    },
    {
      "cell_type": "code",
      "source": [
        "# while 조건:\n",
        "# ->명령문\n",
        "\n",
        "'''\n",
        "\n",
        "    해석)\n",
        "    만약 조건이 참이라면\n",
        "    (들여쓰기 된) 명령문을 **반복**해줘!\n",
        "\n",
        "\n",
        "'''"
      ],
      "metadata": {
        "id": "yU02qboLkprX"
      },
      "execution_count": null,
      "outputs": []
    },
    {
      "cell_type": "code",
      "source": [
        "array = [2023,2022,2021,2020,2019,2018]\n",
        "\n",
        "for i in array:\n",
        "  print(i)"
      ],
      "metadata": {
        "colab": {
          "base_uri": "https://localhost:8080/"
        },
        "id": "0skig386c7aQ",
        "outputId": "fbdbf784-2ee4-413e-d3f6-111c63a45f92"
      },
      "execution_count": 5,
      "outputs": [
        {
          "output_type": "stream",
          "name": "stdout",
          "text": [
            "2023\n",
            "2022\n",
            "2021\n",
            "2020\n",
            "2019\n",
            "2018\n"
          ]
        }
      ]
    },
    {
      "cell_type": "markdown",
      "source": [
        "## 7-4. range() 함수\n",
        "\n",
        "> for문에서 연속적인 값을 차례때로 순회할 때 사용하는 함수\n",
        " \n",
        " * 이때, range(시작 값, 끝 값 + 1) 형태\n",
        " * 인자를 하나만 넣으면 자동으로 시작값은 0  \n",
        "\n",
        "  *   range(10) : 0 ~ 10 이전 범위의 정수\n",
        "  *   range(1,10) : 1 ~ 10 이전 범위의 정수\n",
        "  *   range(1,10,3): 1 ~ 10 이전 범위의 정수를 3씩 증가\n",
        "  *   range(10,1,-1): 10 ~ 1 이전 범위의 정수를 1씩 감소\n",
        "\n",
        "   \n",
        "\n"
      ],
      "metadata": {
        "id": "hQCtz1rndQQt"
      }
    },
    {
      "cell_type": "code",
      "source": [
        "result = 0\n",
        "\n",
        "# i는 1부터 9까지의 모든 값을 순회\n",
        "for i in range(1,10):\n",
        "  result += i\n",
        "\n",
        "print(result)"
      ],
      "metadata": {
        "colab": {
          "base_uri": "https://localhost:8080/"
        },
        "id": "IMeq5l8Kdkqy",
        "outputId": "79601e71-6027-4101-8a2a-ee37c92b8c37"
      },
      "execution_count": 6,
      "outputs": [
        {
          "output_type": "stream",
          "name": "stdout",
          "text": [
            "45\n"
          ]
        }
      ]
    },
    {
      "cell_type": "markdown",
      "source": [
        "## 7-5. continue 키워드\n",
        "\n",
        "\n",
        "*   반복문에서 남은 코드의 실행을 건너뛰고, 다음 반복을 진행하고자 할 경우 continue를 사용\n",
        "*   ex) 1부터 9까지의 홀수의 합을 구할 때 다음과 같이 작성\n",
        "\n",
        "\n"
      ],
      "metadata": {
        "id": "Bz7foGjfdkPA"
      }
    },
    {
      "cell_type": "code",
      "source": [
        "result = 0\n",
        "\n",
        "for i in range(1, 10):\n",
        "  if i % 2 == 0:\n",
        "    continue\n",
        "  result += i\n",
        "\n",
        "print(result)"
      ],
      "metadata": {
        "colab": {
          "base_uri": "https://localhost:8080/"
        },
        "id": "WcaVDMTVeLYb",
        "outputId": "c489e58f-6dad-4da4-e1fd-752fa3cd2877"
      },
      "execution_count": 7,
      "outputs": [
        {
          "output_type": "stream",
          "name": "stdout",
          "text": [
            "25\n"
          ]
        }
      ]
    },
    {
      "cell_type": "markdown",
      "source": [
        "## 7-6. break 키워드\n",
        "\n",
        "\n",
        "*   반복문을 즉시 탈출할 경우 break를 사용\n",
        "*   ex) 1부터 9까지의 정수를 차례대로 출력하고자 할 때 다음과 같이 작성\n",
        "\n",
        "\n",
        "\n"
      ],
      "metadata": {
        "id": "BY0t0El3eZOC"
      }
    },
    {
      "cell_type": "code",
      "source": [
        "i = 1\n",
        "\n",
        "while True:\n",
        "  print(\"i의 값 : \", i)\n",
        "  if i == 9:\n",
        "    break\n",
        "  i += 1"
      ],
      "metadata": {
        "colab": {
          "base_uri": "https://localhost:8080/"
        },
        "id": "6lxlrgh9epf7",
        "outputId": "fc650a69-eff0-4a4a-c5b7-9a21045fb827"
      },
      "execution_count": 8,
      "outputs": [
        {
          "output_type": "stream",
          "name": "stdout",
          "text": [
            "i의 값 :  1\n",
            "i의 값 :  2\n",
            "i의 값 :  3\n",
            "i의 값 :  4\n",
            "i의 값 :  5\n",
            "i의 값 :  6\n",
            "i의 값 :  7\n",
            "i의 값 :  8\n",
            "i의 값 :  9\n"
          ]
        }
      ]
    },
    {
      "cell_type": "markdown",
      "source": [
        "### [연습1]\n",
        "* 지원자들의 통과 여부 판단\n",
        "* 점수가 60점 넘으면 통과"
      ],
      "metadata": {
        "id": "eWFY4bSse7qh"
      }
    },
    {
      "cell_type": "code",
      "source": [
        "scores = [60,90,45,80,55]\n",
        "\n",
        "for i in range(5):\n",
        "  if scores[i] >= 60:\n",
        "    print(i + 1, \"번 지원자는 통과하셨습니다.\")"
      ],
      "metadata": {
        "colab": {
          "base_uri": "https://localhost:8080/"
        },
        "id": "psN_qFy2fyD6",
        "outputId": "a671dd51-56da-43bf-b716-8679db31ba4c"
      },
      "execution_count": 11,
      "outputs": [
        {
          "output_type": "stream",
          "name": "stdout",
          "text": [
            "1 번 지원자는 통과하셨습니다.\n",
            "2 번 지원자는 통과하셨습니다.\n",
            "4 번 지원자는 통과하셨습니다.\n"
          ]
        }
      ]
    },
    {
      "cell_type": "markdown",
      "source": [
        "### [연습2]\n",
        "* 지원자들의 통과 여부 판단\n",
        "* 특정 번호의 지원자는 제외"
      ],
      "metadata": {
        "id": "J1pxm9dggGEc"
      }
    },
    {
      "cell_type": "code",
      "source": [
        "scores = [60,90,45,80,55]\n",
        "cheating_applicant_list = {3,5}\n",
        "\n",
        "for i in range(5):\n",
        "  if i + 1 in cheating_applicant_list:\n",
        "    continue\n",
        "  if scores[i] >= 60:\n",
        "    print(i + 1, \"번 지원자는 통과하셨습니다.\")"
      ],
      "metadata": {
        "colab": {
          "base_uri": "https://localhost:8080/"
        },
        "id": "Lj8pOgWZgNK7",
        "outputId": "043010eb-3166-4d7e-fcea-56a03e97c621"
      },
      "execution_count": 21,
      "outputs": [
        {
          "output_type": "stream",
          "name": "stdout",
          "text": [
            "1 번 지원자는 통과하셨습니다.\n",
            "2 번 지원자는 통과하셨습니다.\n",
            "4 번 지원자는 통과하셨습니다.\n"
          ]
        }
      ]
    },
    {
      "cell_type": "markdown",
      "source": [
        "### [연습3]\n",
        "* 중첩된 반복문\n",
        "* ex) 구구단"
      ],
      "metadata": {
        "id": "f4HarjVKh3dd"
      }
    },
    {
      "cell_type": "code",
      "source": [
        "for i in range(7,10):\n",
        "  for j in range(1,10):\n",
        "    print(i, \"x\", j, \"=\", i * j)\n",
        "  print()"
      ],
      "metadata": {
        "colab": {
          "base_uri": "https://localhost:8080/"
        },
        "id": "9mkKjhkRiFle",
        "outputId": "b258f107-2b97-4ac1-d420-17c055ff344a"
      },
      "execution_count": 24,
      "outputs": [
        {
          "output_type": "stream",
          "name": "stdout",
          "text": [
            "7 x 1 = 7\n",
            "7 x 2 = 14\n",
            "7 x 3 = 21\n",
            "7 x 4 = 28\n",
            "7 x 5 = 35\n",
            "7 x 6 = 42\n",
            "7 x 7 = 49\n",
            "7 x 8 = 56\n",
            "7 x 9 = 63\n",
            "\n",
            "8 x 1 = 8\n",
            "8 x 2 = 16\n",
            "8 x 3 = 24\n",
            "8 x 4 = 32\n",
            "8 x 5 = 40\n",
            "8 x 6 = 48\n",
            "8 x 7 = 56\n",
            "8 x 8 = 64\n",
            "8 x 9 = 72\n",
            "\n",
            "9 x 1 = 9\n",
            "9 x 2 = 18\n",
            "9 x 3 = 27\n",
            "9 x 4 = 36\n",
            "9 x 5 = 45\n",
            "9 x 6 = 54\n",
            "9 x 7 = 63\n",
            "9 x 8 = 72\n",
            "9 x 9 = 81\n",
            "\n"
          ]
        }
      ]
    },
    {
      "cell_type": "markdown",
      "source": [
        "### [실습]\n",
        "\n",
        "*   조건문과 반복문의 콤보\n",
        "*   1번부터 30번까지 지원자를 순서대로 출력\n",
        "\n"
      ],
      "metadata": {
        "id": "ony27kJZoAec"
      }
    },
    {
      "cell_type": "code",
      "source": [
        "# 문제해결과정 절차적으로 설명해보기\n",
        "# 1) 1부터 10까지의 정수 범위를 만든다.\n",
        "# 2) 범위를 반복한다.\n",
        "# 3) 각 정수를 출력한다."
      ],
      "metadata": {
        "id": "La13z68An5U1"
      },
      "execution_count": null,
      "outputs": []
    },
    {
      "cell_type": "code",
      "source": [
        "# 코드로 표현해보기\n",
        "for i in range(1, 11):\n",
        "  print(i)\n",
        "\n",
        "# 숫자를 문자로 바꿀땐 string\n",
        "for i in range(1,11):\n",
        "  print(str(i)+'번 지원자님 대기실로 들어오시길 바랍니다!')"
      ],
      "metadata": {
        "colab": {
          "base_uri": "https://localhost:8080/"
        },
        "id": "uHLTtRtmoVVl",
        "outputId": "2578cc09-4978-4f81-df3c-f378ff9221a7"
      },
      "execution_count": 34,
      "outputs": [
        {
          "output_type": "stream",
          "name": "stdout",
          "text": [
            "1\n",
            "2\n",
            "3\n",
            "4\n",
            "5\n",
            "6\n",
            "7\n",
            "8\n",
            "9\n",
            "10\n",
            "1번 지원자님 대기실로 들어오시길 바랍니다!\n",
            "2번 지원자님 대기실로 들어오시길 바랍니다!\n",
            "3번 지원자님 대기실로 들어오시길 바랍니다!\n",
            "4번 지원자님 대기실로 들어오시길 바랍니다!\n",
            "5번 지원자님 대기실로 들어오시길 바랍니다!\n",
            "6번 지원자님 대기실로 들어오시길 바랍니다!\n",
            "7번 지원자님 대기실로 들어오시길 바랍니다!\n",
            "8번 지원자님 대기실로 들어오시길 바랍니다!\n",
            "9번 지원자님 대기실로 들어오시길 바랍니다!\n",
            "10번 지원자님 대기실로 들어오시길 바랍니다!\n"
          ]
        }
      ]
    },
    {
      "cell_type": "code",
      "source": [
        "for i in range(1,11):\n",
        "  if i % 10 == 0: # %는 나머지 => 10으로 나눈 나머지가 0과 같을때(10의 배수)\n",
        "    print('축하합니다. 우선 선발 대상입니다')\n",
        "\n",
        "  print(str(i)+'번 지원자님 면접실로 들어오시길 바랍니다!')"
      ],
      "metadata": {
        "colab": {
          "base_uri": "https://localhost:8080/"
        },
        "id": "jriUT-Mzoe93",
        "outputId": "8a5651c9-a6a8-4fb4-9596-9d8b8ce72470"
      },
      "execution_count": 35,
      "outputs": [
        {
          "output_type": "stream",
          "name": "stdout",
          "text": [
            "1번 지원자님 면접실로 들어오시길 바랍니다!\n",
            "2번 지원자님 면접실로 들어오시길 바랍니다!\n",
            "3번 지원자님 면접실로 들어오시길 바랍니다!\n",
            "4번 지원자님 면접실로 들어오시길 바랍니다!\n",
            "5번 지원자님 면접실로 들어오시길 바랍니다!\n",
            "6번 지원자님 면접실로 들어오시길 바랍니다!\n",
            "7번 지원자님 면접실로 들어오시길 바랍니다!\n",
            "8번 지원자님 면접실로 들어오시길 바랍니다!\n",
            "9번 지원자님 면접실로 들어오시길 바랍니다!\n",
            "축하합니다. 우선 선발 대상입니다\n",
            "10번 지원자님 면접실로 들어오시길 바랍니다!\n"
          ]
        }
      ]
    }
  ]
}