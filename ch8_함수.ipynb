{
  "nbformat": 4,
  "nbformat_minor": 0,
  "metadata": {
    "colab": {
      "provenance": []
    },
    "kernelspec": {
      "name": "python3",
      "display_name": "Python 3"
    },
    "language_info": {
      "name": "python"
    }
  },
  "cells": [
    {
      "cell_type": "markdown",
      "source": [
        "# 8. 함수(Function)\n",
        "\n",
        "\n",
        "*   특정작업을 하나의 단위로 묶어 놓은 것\n",
        "*   함수의 종류\n",
        "    * 내장 함수 : 파이썬이 기본적으로 제공하는 함수\n",
        "    * User 정의 함수 : 개발자가 직접 정의하여 사용할 수 있는 함수\n",
        "*   함수 사용시 불필요한 소스코드의 길이를 줄일 수 있음\n",
        "    * 매개변수 : 함수 내부에서 사용할 변수\n",
        "    * 반환 값 : 함수에서 처리 된 결과를 반환\n",
        "\n",
        "\n"
      ],
      "metadata": {
        "id": "MYkxKUo1sRos"
      }
    },
    {
      "cell_type": "code",
      "execution_count": null,
      "metadata": {
        "id": "KByUegC8sMyN"
      },
      "outputs": [],
      "source": [
        "'''\n",
        "\n",
        "def 함수명(매개변수):\n",
        "    실행할 소스코드\n",
        "    return 반환값\n",
        "\n",
        "'''"
      ]
    },
    {
      "cell_type": "markdown",
      "source": [
        "[예시]"
      ],
      "metadata": {
        "id": "_pWqQHjatX3v"
      }
    },
    {
      "cell_type": "code",
      "source": [
        "# 더하기 함수\n",
        "\n",
        "def add(a, b):\n",
        "  return a + b\n",
        "\n",
        "print(add(20, 23))"
      ],
      "metadata": {
        "colab": {
          "base_uri": "https://localhost:8080/"
        },
        "id": "Yb7rHwWLteQD",
        "outputId": "6dc59b5d-2681-47b3-8241-09aad99a7f4b"
      },
      "execution_count": null,
      "outputs": [
        {
          "output_type": "stream",
          "name": "stdout",
          "text": [
            "43\n"
          ]
        }
      ]
    },
    {
      "cell_type": "markdown",
      "source": [
        "## 8-1. 파라미터 지정\n",
        "\n",
        "\n",
        "*   파라미터의 변수를 직접 지정 가능\n",
        "    * 이 경우, 매개변수의 순서가 달라도 상관이 없음   \n",
        "\n"
      ],
      "metadata": {
        "id": "Y6pQchCnva0N"
      }
    },
    {
      "cell_type": "code",
      "source": [
        "def add(a,b):\n",
        "  print('결과 :', a + b)\n",
        "\n",
        "add(b = 20, a = 23)"
      ],
      "metadata": {
        "colab": {
          "base_uri": "https://localhost:8080/"
        },
        "id": "bPhFd-T7vUqE",
        "outputId": "860073fd-9734-4879-f9ae-4921cd88b060"
      },
      "execution_count": null,
      "outputs": [
        {
          "output_type": "stream",
          "name": "stdout",
          "text": [
            "결과 : 43\n"
          ]
        }
      ]
    },
    {
      "cell_type": "markdown",
      "source": [
        "## 8-2. 지역변수와 전역변수\n",
        "\n",
        "* 지역변수(함수 내에서만 사용, 호출이 끝나면 사라짐)\n",
        "* 전역변수(프로그램 내 어디서든 부를 수 있음)"
      ],
      "metadata": {
        "id": "IViZzAj5v6MU"
      }
    },
    {
      "cell_type": "markdown",
      "source": [
        "### [지역변수]"
      ],
      "metadata": {
        "id": "gXiAHxQBsYNp"
      }
    },
    {
      "cell_type": "code",
      "source": [
        "error_code = 10\n",
        "\n",
        "def checkpoint(reviewer):  # 추가근무\n",
        "  error_code = 20\n",
        "  error_code = error_code - reviewer\n",
        "  print(\"[함수 내] 남은 에러 코드 : {0}\".format(error_code))\n",
        "\n",
        "print(\"전체 에러 코드 : {0}\".format(error_code)) # 에러코드 10개 출력\n",
        "checkpoint(2) # 2명 추가근무  / 함수호출했을 때 에러코드 18개 발견(밖에있는 error_code가 아니라 안에 있는 error_code가 20-2=18이 출력)\n",
        "print(\"남은 에러 코드 : {0}\".format(error_code)) # 함수 외부에서는 출력했을때 10이 그대로 -> error_code라는 변수의 값이 변하지 않은것 -> 지역변수\n",
        "\n",
        "# 이럴때 해볼수 있는 것이 전역변수를 사용한다는 것!"
      ],
      "metadata": {
        "colab": {
          "base_uri": "https://localhost:8080/"
        },
        "id": "t7vi1ji2pYuU",
        "outputId": "37ea2886-ca56-42f7-ddb7-d6bc742c4f05"
      },
      "execution_count": 1,
      "outputs": [
        {
          "output_type": "stream",
          "name": "stdout",
          "text": [
            "전체 에러 코드 : 10\n",
            "[함수 내] 남은 에러 코드 : 18\n",
            "남은 에러 코드 : 10\n"
          ]
        }
      ]
    },
    {
      "cell_type": "markdown",
      "source": [
        "### [전역변수]"
      ],
      "metadata": {
        "id": "Q-P3O8RcsbcY"
      }
    },
    {
      "cell_type": "code",
      "source": [
        "error_code = 10\n",
        "\n",
        "def checkpoint(reviewer):  # 추가 근무\n",
        "  global error_code # 전역 공간에 있는 error_code라는 변수를 checkpoint함수 내에 사용\n",
        "  error_code = error_code - reviewer\n",
        "  print(\"[함수 내] 남은 에러 코드 : {0}\".format(error_code))\n",
        "\n",
        "print(\"전체 에러 코드 : {0}\".format(error_code))\n",
        "checkpoint(2) # 2명 추가 근무\n",
        "print(\"남은 에러 코드 : {0}\".format(error_code))\n",
        "\n",
        "# 실제로도 함수 외부에 있는 \"error_code = 10\" 의 값이 변화 -> 출력값 바뀜"
      ],
      "metadata": {
        "colab": {
          "base_uri": "https://localhost:8080/"
        },
        "id": "zGYOo9Q1rBqs",
        "outputId": "2252c24d-3930-44c9-e93e-2199571e1c13"
      },
      "execution_count": 2,
      "outputs": [
        {
          "output_type": "stream",
          "name": "stdout",
          "text": [
            "전체 에러 코드 : 10\n",
            "[함수 내] 남은 에러 코드 : 8\n",
            "남은 에러 코드 : 8\n"
          ]
        }
      ]
    },
    {
      "cell_type": "markdown",
      "source": [
        "### [반환값 return]\n",
        "\n",
        "* 일반적으로 전역변수를 많이 쓰게 되면 코드 관리가 어려움\n",
        "* 가급적 함수의 전달값으로 파라미터로 던져서 계산하고 반환값을 받아서 사용하는 방법이 좋음"
      ],
      "metadata": {
        "id": "NrnxRpnGr5f8"
      }
    },
    {
      "cell_type": "code",
      "source": [
        "# return \n",
        "# 바뀌어진 error_code 라는 변수의 값을 외부로 던질수 있음\n",
        "# 밖에서는 error_code 라는 변수에 checkpoint_2 함수에서 계산되고 반환되는 값을 받아서 다시 저장함\n",
        "\n",
        "error_code = 10\n",
        "\n",
        "def checkpoint_2(error_code, reviewer):\n",
        "  error_code = error_code - reviewer\n",
        "  print(\"[함수 내] 남은 에러 코드 : {0}\".format(error_code)) #여기까지는 지역변수로써 변수값이 바뀌지 않음\n",
        "  return error_code\n",
        "\n",
        "print(\"전체 에러 코드 : {0}\".format(error_code))\n",
        "checkpoint(2) # 2명 추가근무\n",
        "print(\"남은 에러 코드 : {0}\".format(error_code))"
      ],
      "metadata": {
        "id": "0UNyK0rlsHzq"
      },
      "execution_count": null,
      "outputs": []
    },
    {
      "cell_type": "markdown",
      "source": [
        "##8-3. global 키워드\n",
        "\n",
        "*   global 키워드로 변수를 지정하면 해당 함수에서는 지역 변수를 만들지 않고, \n",
        "함수 바깥에 선언된 변수를 바로 참조하게 됨\n",
        "*   기본적으로 C언어 계열의 프로그래밍 언어에서는 이러한 global 키워드가 없으면 자동으로 함수 바깥에 있는 전역변수를 참조함\n",
        "    *   파이썬의 경우 함수 바깥쪽에 정의되어 있는 변수를 사용하고자 할 때, global 키워드를 이용해야함"
      ],
      "metadata": {
        "id": "8eyGCfSk8Yhw"
      }
    },
    {
      "cell_type": "code",
      "source": [
        "a = 0\n",
        "\n",
        "def func():\n",
        "    global a\n",
        "    a += 1 # 바깥쪽에 선언되고 있는 a를 참조해서 a의 값을 1씩 증가\n",
        "\n",
        "for i in range(15): # func 함수를 15번 호출\n",
        "    func()\n",
        "\n",
        "print(a)"
      ],
      "metadata": {
        "colab": {
          "base_uri": "https://localhost:8080/"
        },
        "id": "FTsZiqQXd5uG",
        "outputId": "2492522a-b5c3-42c1-cd53-cd6772ee7c5f"
      },
      "execution_count": null,
      "outputs": [
        {
          "output_type": "stream",
          "name": "stdout",
          "text": [
            "15\n"
          ]
        }
      ]
    },
    {
      "cell_type": "markdown",
      "source": [
        "###[오류해결]"
      ],
      "metadata": {
        "id": "h3Y9zusIxiQp"
      }
    },
    {
      "cell_type": "markdown",
      "source": [
        "1.   하나의 함수를 정의\n",
        "2.   그 함수에서는 바깥쪽에 있는 전역변수로 선언된 a\n",
        "3.   a라는 변수의 값을 증가시키도록 해보기\n",
        "\n",
        "\n",
        "*   이때, a라는 변수가 할당되기 전 참조화 되었다는 오류메세지가 뜸\n",
        "  *   하나의 함수 안에 포함되어 있는 a라는 변수는 초기화가 안된것 처럼 처리가 된 것\n",
        "*   a라는 값이 0이라고 할당을 해준 다음 출력해야함\n",
        "\n"
      ],
      "metadata": {
        "id": "STiHc9ROg-uK"
      }
    },
    {
      "cell_type": "code",
      "source": [
        "'''\n",
        "a = 20\n",
        "\n",
        "def func():\n",
        "    a += 1 \n",
        "\n",
        "'''\n",
        "\n",
        "# 단순히 값 참조는 오류없이 실행가능\n",
        "a = 20\n",
        "\n",
        "def func():\n",
        "    print(a + 23)\n",
        "func()"
      ],
      "metadata": {
        "id": "VCZgeBXof4fc"
      },
      "execution_count": null,
      "outputs": []
    },
    {
      "cell_type": "markdown",
      "source": [
        "###[연습] \n",
        "* 전역변수에 참조를 해야 할 경우 global 키워드 사용\n",
        "  * 이 경우, 바깥쪽에 있는 전역변수에 참조할 것\n",
        "  * 전역변수의 값을 참조해서 값을 변경할 때, global 키워드 사용"
      ],
      "metadata": {
        "id": "qadANNqfxzrs"
      }
    },
    {
      "cell_type": "code",
      "source": [
        "array = [5,6,7,8,9]\n",
        "\n",
        "def func():\n",
        "    global array\n",
        "    array.append(10)\n",
        "\n",
        "func()\n",
        "print(array)"
      ],
      "metadata": {
        "id": "KKg6c6hLMohm"
      },
      "execution_count": null,
      "outputs": []
    },
    {
      "cell_type": "markdown",
      "source": [
        "###[연습2]\n",
        "* 전역변수 리스트가 선언되었을 경우\n",
        "  * 전역변수로 선언된 리스트 객체의 내부 메소드로 호출하는 것은 오류없이 실행됨\n"
      ],
      "metadata": {
        "id": "Vxt7ykjHyNMD"
      }
    },
    {
      "cell_type": "code",
      "source": [
        "array = [5, 6, 7, 8, 9]\n",
        "\n",
        "def func():\n",
        "  array.append(10)\n",
        "  print(array)\n",
        "\n",
        "func()"
      ],
      "metadata": {
        "colab": {
          "base_uri": "https://localhost:8080/"
        },
        "id": "vj1zkRWqKaGU",
        "outputId": "77199bfc-fe6c-47c6-fba3-0e2ac300443e"
      },
      "execution_count": null,
      "outputs": [
        {
          "output_type": "stream",
          "name": "stdout",
          "text": [
            "[5, 6, 7, 8, 9, 10]\n"
          ]
        }
      ]
    },
    {
      "cell_type": "markdown",
      "source": [
        "###[연습3]\n",
        "* 함수 안에 지역변수로써, 이 전역변수와 동일한 이름의 하나의 리스트가 선언이 될 경우\n",
        "    * 이 함수 안에서는 지역변수가 우선적으로 참조\n",
        "    * 전역변수와 지역변수는 동일한 이름의 변수가 존재한다면 -> 함수 안에서는 내부적으로 선언되어 있는 함수를 우선적으로 처리\n",
        "    * 함수 안에서 출력되는 array를 이 함수 안쪽에서 선언되어 있는 array를 참조\n",
        "    * 함수 바깥쪽에서 array를 참조하게 되면 -> 전역변수로 선언되어 있는 array에 우선적으로 접근"
      ],
      "metadata": {
        "id": "pBDqyAcOyevD"
      }
    },
    {
      "cell_type": "code",
      "source": [
        "a = 20\n",
        "\n",
        "def func():\n",
        "    a = 0\n",
        "    a += 1\n",
        "\n",
        "print(a)\n"
      ],
      "metadata": {
        "colab": {
          "base_uri": "https://localhost:8080/"
        },
        "id": "ZZIrt37GiOSH",
        "outputId": "3fa8e135-4308-4216-baee-229483486b2b"
      },
      "execution_count": null,
      "outputs": [
        {
          "output_type": "stream",
          "name": "stdout",
          "text": [
            "20\n"
          ]
        }
      ]
    },
    {
      "cell_type": "markdown",
      "source": [
        "## 8-4. 여러 개의 반환값\n",
        "\n",
        "\n",
        "\n",
        "*   파이썬에서 함수는 여러개의 반환값을 가질 수 있음\n",
        "*   패킹 : 여러개의 변수가 한꺼번에 반환되는 것\n",
        "*   언패킹 : 함수를 호출하는 측면에서 반환된 값들을 차례대로 특정 변수에 담는 것\n"
      ],
      "metadata": {
        "id": "QDtmCgu3wDhD"
      }
    },
    {
      "cell_type": "markdown",
      "source": [
        "###[연습]\n",
        "\n",
        "* 입력으로 받을 매개변수를 차례대로 명시\n",
        "* 콜론(:)을 넣어서 함수의 반환 값을 이어서 명시\n",
        "* 어떠한 함수 자체를 입력으로 받는 또 다른 함수가 존재할 수 있음"
      ],
      "metadata": {
        "id": "wuyTeWSHaCxZ"
      }
    },
    {
      "cell_type": "code",
      "source": [
        "def operator(a, b):\n",
        "  add_var = a + b\n",
        "  subtract_var = a - b\n",
        "  multiply_var = a * b\n",
        "  divide_var = a / b\n",
        "  return add_var, subtract_var, multiply_var, divide_var\n",
        "\n",
        "a, b, c, d = operator(2, 3)\n",
        "print(a, b, c, d)"
      ],
      "metadata": {
        "id": "Urd05gsQwvl6",
        "colab": {
          "base_uri": "https://localhost:8080/"
        },
        "outputId": "69b72719-8fde-4eb5-f132-4184845ffe45"
      },
      "execution_count": null,
      "outputs": [
        {
          "output_type": "stream",
          "name": "stdout",
          "text": [
            "5 -1 6 0.6666666666666666\n"
          ]
        }
      ]
    },
    {
      "cell_type": "markdown",
      "source": [
        "###[실습] - 전달값과 반환값"
      ],
      "metadata": {
        "id": "vLV_rEK43_Cl"
      }
    },
    {
      "cell_type": "markdown",
      "source": [
        "---\n",
        "\n",
        "1. 입금(잔액, 현재입금한금액)\n",
        "  * def 입금 함수(balance, money):\n",
        "2. 변수\n",
        "  * balance라는 변수 - 처음엔 0원\n",
        "3. deposit\n",
        " * 입금하는 호출을 호출하면서 현재잔액 0원 + 새로 1000원 입금하면서\n",
        "   * 위의 def 함수구문으로 들어감 -> return을 통해서 총 금액 반환\n",
        "4. print\n",
        "  * 반환될 금액을 밑에 balance에 저장함\n",
        "---"
      ],
      "metadata": {
        "id": "8GWP1aTU4iri"
      }
    },
    {
      "cell_type": "code",
      "source": [
        "def deposit(balance, money): #입금\n",
        "  print(\"입금이 완료되었습니다. 잔액은 {0} 원입니다.\".format(balance + money))\n",
        "  return balance + money\n",
        "\n",
        "balance = 0 # 잔액(초기엔 계좌에 돈X)\n",
        "balance = deposit(balance, 1000) \n",
        "print(balance)"
      ],
      "metadata": {
        "id": "7D46RjSz4BjC"
      },
      "execution_count": null,
      "outputs": []
    },
    {
      "cell_type": "markdown",
      "source": [
        "1. 기본 출금"
      ],
      "metadata": {
        "id": "x3kNaM_O6C-i"
      }
    },
    {
      "cell_type": "code",
      "source": [
        "#출금\n",
        "\n",
        "def withdraw(balance, money):\n",
        "  if balance >= money: # 잔액이 출금보다 많으면\n",
        "    print(\"출금이 완료되었습니다. 잔액은 {0}원입니다.\".format(balance - money))\n",
        "    return balance - money\n",
        "  else:                # 잔액이 출금보다 적으면\n",
        "    print(\"출금이 완료되지 않았습니다. 잔액은 {0}원입니다.\".format(balance)) #출금안했으니까 balance값만 \n",
        "    return balance\n",
        "\n",
        "balance = 0 #잔액\n",
        "# balance = withdrwaw(balance, 2000)\n",
        "balance = withdraw(balance, 500)\n"
      ],
      "metadata": {
        "id": "8Qgyb6mZ4Dll"
      },
      "execution_count": null,
      "outputs": []
    },
    {
      "cell_type": "markdown",
      "source": [
        "2. 저녁에 출금가능(+ 수수료[변수])"
      ],
      "metadata": {
        "id": "kcHimjJQ6vWA"
      }
    },
    {
      "cell_type": "code",
      "source": [
        "def withdraw_night(balance, money):\n",
        "  commission = 100\n",
        "  return commission, balance - money - commission \n",
        "  # 받고싶은 값\n",
        "  # 수수료가 얼마나 나왔고, 현재 잔액중에서 얼마를 출금하고 수수료까지 뺀 금액을 튜플형식으로 보내줌\n",
        "  # 두개의 값을 콤마로 구분해서 반환해줌\n",
        "\n",
        "balance  = 0\n",
        "# balance = deposit(balance, 1000)\n",
        "# balance = withdraw(balnace, 2000)\n",
        "# balance = withdraw(balance, 500)\n",
        "\n",
        "commission, balance = withdraw_night(balance, 500)\n",
        "print(\"수수료 {0} 원이며, 잔액은 {1}원입니다.\".format(commission, balance))"
      ],
      "metadata": {
        "id": "4IeauyNN4HTO"
      },
      "execution_count": null,
      "outputs": []
    }
  ]
}