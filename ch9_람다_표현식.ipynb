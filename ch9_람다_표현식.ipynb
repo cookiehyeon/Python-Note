{
  "nbformat": 4,
  "nbformat_minor": 0,
  "metadata": {
    "colab": {
      "provenance": []
    },
    "kernelspec": {
      "name": "python3",
      "display_name": "Python 3"
    },
    "language_info": {
      "name": "python"
    }
  },
  "cells": [
    {
      "cell_type": "markdown",
      "source": [
        "## 9.람다 표현식\n",
        "\n",
        "\n",
        "*   함수를 간단하게 작성할 수 있음\n",
        "    * 특정한 기능을 수행하는 함수를 한 줄에 작성할  수 있음\n",
        "    * 별도로 함수를 정의하는 것과 같이 함수의 이름을 적어주고 별도의 함수를 정의x\n",
        "      * 한줄의 람다 표현식으로 정의, 함수의 이름 또한 정의하지 않음"
      ],
      "metadata": {
        "id": "InBt6nTYtuYt"
      }
    },
    {
      "cell_type": "markdown",
      "source": [
        "###[람다 표현식 연습] - 더하기 함수\n",
        "\n",
        "  * 이 자체를 하나의 add 함수를 볼 수 있음 \n",
        "  * 그 매개변수로 20과 23을 넣은 것 -> 43이라는 반환값이 나옴\n",
        "  * 위의 코드와 동일한 값 출력됨"
      ],
      "metadata": {
        "id": "wPuYE8j0tyLw"
      }
    },
    {
      "cell_type": "code",
      "execution_count": null,
      "metadata": {
        "id": "aLhwgV1Gtkjv"
      },
      "outputs": [],
      "source": [
        "def add(a, b):\n",
        "  return a + b\n",
        "\n",
        "# 1. 일반적인 add() 메소드 사용\n",
        "print(add(20, 23))\n",
        "\n",
        "# 2. 람다 표현식으로 구현한 add() 메소드\n",
        "print((lambda a, b: a + b)(20, 23))"
      ]
    },
    {
      "cell_type": "markdown",
      "source": [
        "###[람다표현식 연습2] - 내장함수에서 자주 사용\n",
        "* 함수의 기능이 매우 간단하거나 단순히 한번 사용하고 말 경우 효과적으로 사용\n",
        "    * 내장함수 중 정렬함수에서 람다 함수를 속성의 값으로 간단하게 넣어줌\n",
        "\n",
        "* 리스트에 모든 원소는 튜플 형태로 존재할 경우, 점수를 오름차순으로 정렬해보기\n",
        "    * 내장 함수 중에서 array를 이용\n",
        "    * array 리스트를 정렬하되, 키 속성으로는 어떠한 함수를 넣어 정렬기준을 명시\n",
        "    * 튜플이 주어졌을 경우 내부적으로 두번째 원소를 기준으로 하여 정렬을 수행하도록 명시\n",
        "    * 즉 두번째 원소를 리턴 하도록 하여 정렬 기준을 명시 \n",
        "    * 키 속성의 값으로 넣어줌으로써 정렬을 수행함\n",
        "    * 오름차순의 점수순으로 과목의 점수가 정렬되어 출력"
      ],
      "metadata": {
        "id": "9DukIgjbt34U"
      }
    },
    {
      "cell_type": "code",
      "source": [
        "array = [('국어', 100), ('수학', 80), ('영어', 90)]\n",
        "\n",
        "def subject_key(x):\n",
        "  return x[1]\n",
        "\n",
        "print(sorted(array, key = subject_key))\n",
        "print(sorted(array, key = lambda x: x[1]))"
      ],
      "metadata": {
        "id": "1kfBfikpt7CK"
      },
      "execution_count": null,
      "outputs": []
    },
    {
      "cell_type": "markdown",
      "source": [
        "###[람다 표현식 연습3] - 여러개의 리스트에 적용\n",
        "\n",
        "* 여러 개의 list에 동일한 규칙을 가지는 하나의 함수를 적용하고자 할 때  람다 표현식을 효과적으로 사용가능    \n",
        "    * 단 한줄로 정렬결과를 출력한 경우\n",
        "    * 키 속성으로 람다함수로 정의한걸 확인\n",
        "    * 어떠한 튜플이나 list와 같은 원소가 있을 경우, 두 번째 원소를 기준으로 해서 정렬을 수행하도록 명시"
      ],
      "metadata": {
        "id": "prvmKEnct81E"
      }
    },
    {
      "cell_type": "markdown",
      "source": [
        "* map 함수\n",
        "  \n",
        "  * 각각의 원소에 어떠한 함수를 적용하고자 할 때 사용\n",
        "  * 각각 순서에 맞는 원소끼리 더한 결과를 별도의 리스트에 담기\n",
        "  * a와 b가 주어졌을 때, a + b를 반환하면 하나의 함수를 정의\n",
        "  * 이제, 이 함수를 list_x와 list_y에 적용\n",
        "  * list_x와 list_2의 내 원소를 하나씩 확인하면서 각각의 위치에 맞는 원소끼리 더해진 결과가 result에 담기는것을 확인"
      ],
      "metadata": {
        "id": "2KDtXOOdt_io"
      }
    },
    {
      "cell_type": "code",
      "source": [
        "list_x = [1,2,3,4,5]\n",
        "list_y = [6,7,8,9,10]\n",
        "\n",
        "result = map(lambda a, b: a + b, list_x, list_y)\n",
        "print(list(result))"
      ],
      "metadata": {
        "id": "Z9-nNIHOuAV3"
      },
      "execution_count": null,
      "outputs": []
    }
  ]
}